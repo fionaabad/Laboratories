{
 "cells": [
  {
   "cell_type": "code",
   "execution_count": 18,
   "metadata": {},
   "outputs": [],
   "source": [
    "products= [\"t-shirt\", \"mug\", \"hat\", \"book\", \"keychain\"]\n",
    "\n",
    "def initialize_inventory(products):\n",
    "    inventory={}\n",
    "    for product in products:\n",
    "        quantity= int(input(f'How many of {product} do you have: '))\n",
    "        inventory[product]=quantity\n",
    "    return inventory\n",
    "    \n",
    "inventory= initialize_inventory(products)"
   ]
  },
  {
   "cell_type": "code",
   "execution_count": 19,
   "metadata": {},
   "outputs": [],
   "source": [
    "def get_customer_orders():\n",
    "    customer_orders =set()\n",
    "    while True:\n",
    "        choose= input('Choose a product: ')\n",
    "        customer_orders.add(choose)\n",
    "        keep_going= input('Do you want to add another product? ')\n",
    "        if keep_going== 'yes':\n",
    "            continue\n",
    "        else:\n",
    "            break\n",
    "    return customer_orders\n",
    "\n",
    "customer_orders= get_customer_orders()"
   ]
  },
  {
   "cell_type": "code",
   "execution_count": 1,
   "metadata": {},
   "outputs": [
    {
     "ename": "IndentationError",
     "evalue": "expected an indented block after 'if' statement on line 8 (3835247975.py, line 9)",
     "output_type": "error",
     "traceback": [
      "\u001b[1;36m  Cell \u001b[1;32mIn[1], line 9\u001b[1;36m\u001b[0m\n\u001b[1;33m    inventory.pop(order[0])\u001b[0m\n\u001b[1;37m    ^\u001b[0m\n\u001b[1;31mIndentationError\u001b[0m\u001b[1;31m:\u001b[0m expected an indented block after 'if' statement on line 8\n"
     ]
    }
   ],
   "source": [
    "def update_inventory(inventory, customer_orders):\n",
    "    for order in customer_orders:\n",
    "        for order in inventory:\n",
    "            if inventory[order]== 0:\n",
    "                print(f'{order} is out of stock')\n",
    "            else:\n",
    "                inventory[order] -= 1\n",
    "    return inventory\n",
    "\n",
    "updated_inventory= update_inventory(inventory, customer_orders) "
   ]
  },
  {
   "cell_type": "code",
   "execution_count": 21,
   "metadata": {},
   "outputs": [],
   "source": [
    "def calculate_order_statistics(customer_orders, products):\n",
    "    number_products_ordered = len(customer_orders)\n",
    "    total_products_ordered = len(products)\n",
    "    percentage_unique_products = (total_products_ordered / len(products)) * 100\n",
    "\n",
    "    return number_products_ordered, total_products_ordered, percentage_unique_products\n",
    "\n",
    "statistics= calculate_order_statistics(customer_orders, products)\n"
   ]
  },
  {
   "cell_type": "code",
   "execution_count": 22,
   "metadata": {},
   "outputs": [],
   "source": [
    "def print_order_statistics(statistics):\n",
    "    print(\"Order Statistics:\")\n",
    "    print(\"Total products ordered:\", statistics[0])\n",
    "    print(\"Unique products ordered:\", statistics[1])\n",
    "    print(\"Percentage of unique products ordered:\", statistics[2],\"%\")\n",
    "    \n",
    "print_order_statistics(statistics)"
   ]
  },
  {
   "cell_type": "code",
   "execution_count": 27,
   "metadata": {},
   "outputs": [
    {
     "name": "stdout",
     "output_type": "stream",
     "text": [
      "the quantity of t-shirt in stock is 4\n",
      "the quantity of mug in stock is 4\n",
      "the quantity of hat in stock is 4\n",
      "the quantity of book in stock is 3\n",
      "the quantity of keychain in stock is 3\n"
     ]
    }
   ],
   "source": [
    "def print_updated_inventory(inventory):\n",
    "    for key, value in inventory.items():\n",
    "        print(f'The quantity of {key} in stock is {value}')\n",
    "    \n",
    "    \n",
    "print_updated_inventory(inventory)"
   ]
  },
  {
   "cell_type": "code",
   "execution_count": 3,
   "metadata": {},
   "outputs": [
    {
     "ename": "NameError",
     "evalue": "name 'initialize_inventory' is not defined",
     "output_type": "error",
     "traceback": [
      "\u001b[1;31m---------------------------------------------------------------------------\u001b[0m",
      "\u001b[1;31mNameError\u001b[0m                                 Traceback (most recent call last)",
      "Cell \u001b[1;32mIn[3], line 2\u001b[0m\n\u001b[0;32m      1\u001b[0m products\u001b[39m=\u001b[39m [\u001b[39m\"\u001b[39m\u001b[39mt-shirt\u001b[39m\u001b[39m\"\u001b[39m, \u001b[39m\"\u001b[39m\u001b[39mmug\u001b[39m\u001b[39m\"\u001b[39m, \u001b[39m\"\u001b[39m\u001b[39mhat\u001b[39m\u001b[39m\"\u001b[39m, \u001b[39m\"\u001b[39m\u001b[39mbook\u001b[39m\u001b[39m\"\u001b[39m, \u001b[39m\"\u001b[39m\u001b[39mkeychain\u001b[39m\u001b[39m\"\u001b[39m]\n\u001b[1;32m----> 2\u001b[0m inventory\u001b[39m=\u001b[39m initialize_inventory(products)\n\u001b[0;32m      3\u001b[0m customer_orders\u001b[39m=\u001b[39m get_customer_orders()\n\u001b[0;32m      4\u001b[0m updated_inventory\u001b[39m=\u001b[39m update_inventory(inventory, customer_orders) \n",
      "\u001b[1;31mNameError\u001b[0m: name 'initialize_inventory' is not defined"
     ]
    }
   ],
   "source": [
    "\n",
    "products= [\"t-shirt\", \"mug\", \"hat\", \"book\", \"keychain\"]\n",
    "inventory= initialize_inventory(products)\n",
    "customer_orders= get_customer_orders()\n",
    "updated_inventory= update_inventory(inventory, customer_orders) \n",
    "statistics= calculate_order_statistics(customer_orders, products)\n",
    "print_order_statistics(statistics)\n",
    "print_updated_inventory(inventory)\n"
   ]
  }
 ],
 "metadata": {
  "kernelspec": {
   "display_name": "base",
   "language": "python",
   "name": "python3"
  },
  "language_info": {
   "codemirror_mode": {
    "name": "ipython",
    "version": 3
   },
   "file_extension": ".py",
   "mimetype": "text/x-python",
   "name": "python",
   "nbconvert_exporter": "python",
   "pygments_lexer": "ipython3",
   "version": "3.10.9"
  },
  "orig_nbformat": 4
 },
 "nbformat": 4,
 "nbformat_minor": 2
}
