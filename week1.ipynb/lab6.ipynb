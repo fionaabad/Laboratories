{
 "cells": [
  {
   "cell_type": "code",
   "execution_count": 46,
   "metadata": {},
   "outputs": [],
   "source": [
    "import pandas as pd"
   ]
  },
  {
   "cell_type": "code",
   "execution_count": 47,
   "metadata": {},
   "outputs": [
    {
     "data": {
      "text/plain": [
       "pandas.core.frame.DataFrame"
      ]
     },
     "execution_count": 47,
     "metadata": {},
     "output_type": "execute_result"
    }
   ],
   "source": [
    "df = pd.read_csv('file1.txt')\n",
    "type(df)"
   ]
  },
  {
   "cell_type": "markdown",
   "metadata": {},
   "source": [
    "# Challenge 1"
   ]
  },
  {
   "cell_type": "markdown",
   "metadata": {},
   "source": [
    "Number of rows and columns"
   ]
  },
  {
   "cell_type": "code",
   "execution_count": 48,
   "metadata": {},
   "outputs": [
    {
     "data": {
      "text/plain": [
       "11"
      ]
     },
     "execution_count": 48,
     "metadata": {},
     "output_type": "execute_result"
    }
   ],
   "source": [
    "len(df.columns)"
   ]
  },
  {
   "cell_type": "code",
   "execution_count": 49,
   "metadata": {},
   "outputs": [
    {
     "data": {
      "text/plain": [
       "1071"
      ]
     },
     "execution_count": 49,
     "metadata": {},
     "output_type": "execute_result"
    }
   ],
   "source": [
    "len(df.index) # Tambe pot fer len(df)"
   ]
  },
  {
   "cell_type": "markdown",
   "metadata": {},
   "source": [
    "Determine the data types of each column and evaluate whether they are appropriate for the nature of the variable. You should also provide suggestions for fixing any incorrect data types."
   ]
  },
  {
   "cell_type": "code",
   "execution_count": 50,
   "metadata": {},
   "outputs": [
    {
     "data": {
      "text/plain": [
       "Customer                      object\n",
       "ST                            object\n",
       "GENDER                        object\n",
       "Education                     object\n",
       "Customer Lifetime Value       object\n",
       "Income                         int64\n",
       "Monthly Premium Auto         float64\n",
       "Number of Open Complaints     object\n",
       "Policy Type                   object\n",
       "Vehicle Class                 object\n",
       "Total Claim Amount           float64\n",
       "dtype: object"
      ]
     },
     "execution_count": 50,
     "metadata": {},
     "output_type": "execute_result"
    }
   ],
   "source": [
    "df.dtypes"
   ]
  },
  {
   "cell_type": "markdown",
   "metadata": {},
   "source": [
    "Anem a treure el % de CLV per convertirlo en un float"
   ]
  },
  {
   "cell_type": "code",
   "execution_count": 51,
   "metadata": {},
   "outputs": [
    {
     "ename": "ValueError",
     "evalue": "could not convert string to float: '697953.59%'",
     "output_type": "error",
     "traceback": [
      "\u001b[1;31m---------------------------------------------------------------------------\u001b[0m",
      "\u001b[1;31mValueError\u001b[0m                                Traceback (most recent call last)",
      "Cell \u001b[1;32mIn[51], line 7\u001b[0m\n\u001b[0;32m      5\u001b[0m         l\u001b[39m.\u001b[39mappend(\u001b[39m0.\u001b[39m)\n\u001b[0;32m      6\u001b[0m     \u001b[39melse\u001b[39;00m:\n\u001b[1;32m----> 7\u001b[0m         l\u001b[39m.\u001b[39mappend(\u001b[39mfloat\u001b[39;49m(df[\u001b[39m'\u001b[39;49m\u001b[39mCustomer Lifetime Value\u001b[39;49m\u001b[39m'\u001b[39;49m][i])\u001b[39m.\u001b[39mreplace(\u001b[39m'\u001b[39m\u001b[39m%\u001b[39m\u001b[39m'\u001b[39m,\u001b[39m'\u001b[39m\u001b[39m'\u001b[39m))\n\u001b[0;32m      9\u001b[0m df[\u001b[39m'\u001b[39m\u001b[39mCustomer Lifetime Value\u001b[39m\u001b[39m'\u001b[39m] \u001b[39m=\u001b[39m l\n\u001b[0;32m     10\u001b[0m df\n",
      "\u001b[1;31mValueError\u001b[0m: could not convert string to float: '697953.59%'"
     ]
    }
   ],
   "source": [
    "l = [] # CLV as a float\n",
    "df['Customer Lifetime Value']\n",
    "for i in range(len(df)):\n",
    "    if str(df['Customer Lifetime Value'][i])== 'nan':\n",
    "        l.append(0.)\n",
    "    else:\n",
    "        l.append(float(df['Customer Lifetime Value'][i]).replace('%',''))\n",
    "\n",
    "df['Customer Lifetime Value'] = l\n",
    "df"
   ]
  },
  {
   "cell_type": "code",
   "execution_count": 52,
   "metadata": {},
   "outputs": [],
   "source": [
    "def convert(cell):\n",
    "    if str(cell) == 'nan':\n",
    "        return 0\n",
    "    else:\n",
    "        return float(cell.replace('%',''))\n",
    "    \n",
    "# df['Customer Lifetime Value'].apply(convert) # .apply() IS THE BEST!!!!!!!"
   ]
  },
  {
   "cell_type": "markdown",
   "metadata": {},
   "source": [
    "Convert the incomecolumn to an integrer"
   ]
  },
  {
   "cell_type": "code",
   "execution_count": 53,
   "metadata": {},
   "outputs": [],
   "source": [
    "df['Income'] = df['Income'].fillna(0) # Tots els resulltat que estan buit timdran, en aquest cas el valor de 0.\n",
    "df['Income'] = df['Income'].astype(int)"
   ]
  },
  {
   "cell_type": "markdown",
   "metadata": {},
   "source": [
    "Columnes uniques i categoriques"
   ]
  },
  {
   "cell_type": "code",
   "execution_count": 60,
   "metadata": {},
   "outputs": [],
   "source": [
    "#nunique per saber el numero, unique per saber quins son\n",
    "\n",
    " # df.GENDER = df.GENDER.replace('Male','M').replace('Femal','F').replace('female', 'F')  #Esta b pero no es optim\n",
    "\n",
    "def sex(cell):\n",
    "    if 'f' in str(cell).lower(): # ho posa lower pqe sempre hi hagi una f o m\n",
    "        return 'F'\n",
    "    elif 'm' in str(cell).lower():\n",
    "        return 'M'\n",
    "    else:\n",
    "        return cell\n",
    "\n",
    "df.GENDER = df.GENDER.apply(sex)\n",
    "\n",
    "\n",
    "    "
   ]
  },
  {
   "cell_type": "code",
   "execution_count": 62,
   "metadata": {},
   "outputs": [
    {
     "data": {
      "text/html": [
       "<div>\n",
       "<style scoped>\n",
       "    .dataframe tbody tr th:only-of-type {\n",
       "        vertical-align: middle;\n",
       "    }\n",
       "\n",
       "    .dataframe tbody tr th {\n",
       "        vertical-align: top;\n",
       "    }\n",
       "\n",
       "    .dataframe thead th {\n",
       "        text-align: right;\n",
       "    }\n",
       "</style>\n",
       "<table border=\"1\" class=\"dataframe\">\n",
       "  <thead>\n",
       "    <tr style=\"text-align: right;\">\n",
       "      <th></th>\n",
       "      <th>Customer</th>\n",
       "      <th>ST</th>\n",
       "      <th>GENDER</th>\n",
       "      <th>Education</th>\n",
       "      <th>Customer Lifetime Value</th>\n",
       "      <th>Income</th>\n",
       "      <th>Monthly Premium Auto</th>\n",
       "      <th>Number of Open Complaints</th>\n",
       "      <th>Policy Type</th>\n",
       "      <th>Vehicle Class</th>\n",
       "      <th>Total Claim Amount</th>\n",
       "    </tr>\n",
       "  </thead>\n",
       "  <tbody>\n",
       "    <tr>\n",
       "      <th>0</th>\n",
       "      <td>RB50392</td>\n",
       "      <td>Washington</td>\n",
       "      <td>NaN</td>\n",
       "      <td>Master</td>\n",
       "      <td>NaN</td>\n",
       "      <td>0</td>\n",
       "      <td>1000.0</td>\n",
       "      <td>1/0/00</td>\n",
       "      <td>Personal Auto</td>\n",
       "      <td>Four-Door Car</td>\n",
       "      <td>2.704934</td>\n",
       "    </tr>\n",
       "    <tr>\n",
       "      <th>1</th>\n",
       "      <td>QZ44356</td>\n",
       "      <td>Arizona</td>\n",
       "      <td>F</td>\n",
       "      <td>Bachelor</td>\n",
       "      <td>697953.59%</td>\n",
       "      <td>0</td>\n",
       "      <td>94.0</td>\n",
       "      <td>1/0/00</td>\n",
       "      <td>Personal Auto</td>\n",
       "      <td>Four-Door Car</td>\n",
       "      <td>1131.464935</td>\n",
       "    </tr>\n",
       "    <tr>\n",
       "      <th>2</th>\n",
       "      <td>AI49188</td>\n",
       "      <td>Nevada</td>\n",
       "      <td>F</td>\n",
       "      <td>Bachelor</td>\n",
       "      <td>1288743.17%</td>\n",
       "      <td>48767</td>\n",
       "      <td>108.0</td>\n",
       "      <td>1/0/00</td>\n",
       "      <td>Personal Auto</td>\n",
       "      <td>Two-Door Car</td>\n",
       "      <td>566.472247</td>\n",
       "    </tr>\n",
       "    <tr>\n",
       "      <th>3</th>\n",
       "      <td>WW63253</td>\n",
       "      <td>California</td>\n",
       "      <td>M</td>\n",
       "      <td>Bachelor</td>\n",
       "      <td>764586.18%</td>\n",
       "      <td>0</td>\n",
       "      <td>106.0</td>\n",
       "      <td>1/0/00</td>\n",
       "      <td>Corporate Auto</td>\n",
       "      <td>SUV</td>\n",
       "      <td>529.881344</td>\n",
       "    </tr>\n",
       "    <tr>\n",
       "      <th>4</th>\n",
       "      <td>GA49547</td>\n",
       "      <td>Washington</td>\n",
       "      <td>M</td>\n",
       "      <td>High School or Below</td>\n",
       "      <td>536307.65%</td>\n",
       "      <td>36357</td>\n",
       "      <td>68.0</td>\n",
       "      <td>1/0/00</td>\n",
       "      <td>Personal Auto</td>\n",
       "      <td>Four-Door Car</td>\n",
       "      <td>17.269323</td>\n",
       "    </tr>\n",
       "    <tr>\n",
       "      <th>...</th>\n",
       "      <td>...</td>\n",
       "      <td>...</td>\n",
       "      <td>...</td>\n",
       "      <td>...</td>\n",
       "      <td>...</td>\n",
       "      <td>...</td>\n",
       "      <td>...</td>\n",
       "      <td>...</td>\n",
       "      <td>...</td>\n",
       "      <td>...</td>\n",
       "      <td>...</td>\n",
       "    </tr>\n",
       "    <tr>\n",
       "      <th>1066</th>\n",
       "      <td>TM65736</td>\n",
       "      <td>Oregon</td>\n",
       "      <td>M</td>\n",
       "      <td>Master</td>\n",
       "      <td>305955.03%</td>\n",
       "      <td>38644</td>\n",
       "      <td>78.0</td>\n",
       "      <td>1/1/00</td>\n",
       "      <td>Personal Auto</td>\n",
       "      <td>Four-Door Car</td>\n",
       "      <td>361.455219</td>\n",
       "    </tr>\n",
       "    <tr>\n",
       "      <th>1067</th>\n",
       "      <td>VJ51327</td>\n",
       "      <td>Cali</td>\n",
       "      <td>F</td>\n",
       "      <td>High School or Below</td>\n",
       "      <td>2031499.76%</td>\n",
       "      <td>63209</td>\n",
       "      <td>102.0</td>\n",
       "      <td>1/2/00</td>\n",
       "      <td>Personal Auto</td>\n",
       "      <td>SUV</td>\n",
       "      <td>207.320041</td>\n",
       "    </tr>\n",
       "    <tr>\n",
       "      <th>1068</th>\n",
       "      <td>GS98873</td>\n",
       "      <td>Arizona</td>\n",
       "      <td>F</td>\n",
       "      <td>Bachelor</td>\n",
       "      <td>323912.47%</td>\n",
       "      <td>16061</td>\n",
       "      <td>88.0</td>\n",
       "      <td>1/0/00</td>\n",
       "      <td>Personal Auto</td>\n",
       "      <td>Four-Door Car</td>\n",
       "      <td>633.600000</td>\n",
       "    </tr>\n",
       "    <tr>\n",
       "      <th>1069</th>\n",
       "      <td>CW49887</td>\n",
       "      <td>California</td>\n",
       "      <td>F</td>\n",
       "      <td>Master</td>\n",
       "      <td>462680.11%</td>\n",
       "      <td>79487</td>\n",
       "      <td>114.0</td>\n",
       "      <td>1/0/00</td>\n",
       "      <td>Special Auto</td>\n",
       "      <td>SUV</td>\n",
       "      <td>547.200000</td>\n",
       "    </tr>\n",
       "    <tr>\n",
       "      <th>1070</th>\n",
       "      <td>MY31220</td>\n",
       "      <td>California</td>\n",
       "      <td>F</td>\n",
       "      <td>College</td>\n",
       "      <td>899704.02%</td>\n",
       "      <td>54230</td>\n",
       "      <td>112.0</td>\n",
       "      <td>1/0/00</td>\n",
       "      <td>Personal Auto</td>\n",
       "      <td>Two-Door Car</td>\n",
       "      <td>537.600000</td>\n",
       "    </tr>\n",
       "  </tbody>\n",
       "</table>\n",
       "<p>1071 rows × 11 columns</p>\n",
       "</div>"
      ],
      "text/plain": [
       "     Customer          ST GENDER             Education  \\\n",
       "0     RB50392  Washington    NaN                Master   \n",
       "1     QZ44356     Arizona      F              Bachelor   \n",
       "2     AI49188      Nevada      F              Bachelor   \n",
       "3     WW63253  California      M              Bachelor   \n",
       "4     GA49547  Washington      M  High School or Below   \n",
       "...       ...         ...    ...                   ...   \n",
       "1066  TM65736      Oregon      M                Master   \n",
       "1067  VJ51327        Cali      F  High School or Below   \n",
       "1068  GS98873     Arizona      F              Bachelor   \n",
       "1069  CW49887  California      F                Master   \n",
       "1070  MY31220  California      F               College   \n",
       "\n",
       "     Customer Lifetime Value  Income  Monthly Premium Auto  \\\n",
       "0                        NaN       0                1000.0   \n",
       "1                 697953.59%       0                  94.0   \n",
       "2                1288743.17%   48767                 108.0   \n",
       "3                 764586.18%       0                 106.0   \n",
       "4                 536307.65%   36357                  68.0   \n",
       "...                      ...     ...                   ...   \n",
       "1066              305955.03%   38644                  78.0   \n",
       "1067             2031499.76%   63209                 102.0   \n",
       "1068              323912.47%   16061                  88.0   \n",
       "1069              462680.11%   79487                 114.0   \n",
       "1070              899704.02%   54230                 112.0   \n",
       "\n",
       "     Number of Open Complaints     Policy Type  Vehicle Class  \\\n",
       "0                       1/0/00   Personal Auto  Four-Door Car   \n",
       "1                       1/0/00   Personal Auto  Four-Door Car   \n",
       "2                       1/0/00   Personal Auto   Two-Door Car   \n",
       "3                       1/0/00  Corporate Auto            SUV   \n",
       "4                       1/0/00   Personal Auto  Four-Door Car   \n",
       "...                        ...             ...            ...   \n",
       "1066                    1/1/00   Personal Auto  Four-Door Car   \n",
       "1067                    1/2/00   Personal Auto            SUV   \n",
       "1068                    1/0/00   Personal Auto  Four-Door Car   \n",
       "1069                    1/0/00    Special Auto            SUV   \n",
       "1070                    1/0/00   Personal Auto   Two-Door Car   \n",
       "\n",
       "      Total Claim Amount  \n",
       "0               2.704934  \n",
       "1            1131.464935  \n",
       "2             566.472247  \n",
       "3             529.881344  \n",
       "4              17.269323  \n",
       "...                  ...  \n",
       "1066          361.455219  \n",
       "1067          207.320041  \n",
       "1068          633.600000  \n",
       "1069          547.200000  \n",
       "1070          537.600000  \n",
       "\n",
       "[1071 rows x 11 columns]"
      ]
     },
     "execution_count": 62,
     "metadata": {},
     "output_type": "execute_result"
    }
   ],
   "source": [
    "df.dropna(how = 'all') #eliminar as filas que en todas las columnas tienen NaNa"
   ]
  },
  {
   "cell_type": "code",
   "execution_count": 59,
   "metadata": {},
   "outputs": [
    {
     "name": "stdout",
     "output_type": "stream",
     "text": [
      "Categorical columns:\n",
      "Column: Customer\n",
      "Unique Values: ['RB50392' 'QZ44356' 'AI49188' ... 'GS98873' 'CW49887' 'MY31220']\n",
      "\n",
      "Column: ST\n",
      "Unique Values: ['Washington' 'Arizona' 'Nevada' 'California' 'Oregon' 'Cali' 'AZ' 'WA']\n",
      "\n",
      "Column: GENDER\n",
      "Unique Values: [nan 'F' 'M']\n",
      "\n",
      "Column: Education\n",
      "Unique Values: ['Master' 'Bachelor' 'High School or Below' 'College' 'Bachelors' 'Doctor']\n",
      "\n",
      "Column: Customer Lifetime Value\n",
      "Unique Values: [nan '697953.59%' '1288743.17%' ... '2031499.76%' '323912.47%'\n",
      " '899704.02%']\n",
      "\n",
      "Column: Number of Open Complaints\n",
      "Unique Values: ['1/0/00' '1/2/00' '1/1/00' '1/3/00' '1/5/00' '1/4/00']\n",
      "\n",
      "Column: Policy Type\n",
      "Unique Values: ['Personal Auto' 'Corporate Auto' 'Special Auto']\n",
      "\n",
      "Column: Vehicle Class\n",
      "Unique Values: ['Four-Door Car' 'Two-Door Car' 'SUV' 'Luxury SUV' 'Sports Car'\n",
      " 'Luxury Car']\n",
      "\n",
      "Numerical columns:\n",
      "Column: Income\n",
      "Range of Values: 0 to 99960\n",
      "\n",
      "Column: Monthly Premium Auto\n",
      "Range of Values: 61.0 to 35354.0\n",
      "\n",
      "Column: Total Claim Amount\n",
      "Range of Values: 0.382107 to 2893.239678\n",
      "\n"
     ]
    }
   ],
   "source": [
    "\n",
    "num_columns = []\n",
    "cat_columns = []\n",
    "\n",
    "for column in df.columns:\n",
    "    if df[column].dtype == 'object':\n",
    "        cat_columns.append(column)\n",
    "    else:\n",
    "        num_columns.append(column)\n",
    "\n",
    "print(\"Categorical columns:\")\n",
    "for column in cat_columns:\n",
    "    unique_values = df[column].unique()\n",
    "    print(f\"Column: {column}\")\n",
    "    print(f\"Unique Values: {unique_values}\")\n",
    "    print()\n",
    "\n",
    "print(\"Numerical columns:\")\n",
    "for column in num_columns:\n",
    "    range_min = df[column].min()\n",
    "    range_max = df[column].max()\n",
    "    print(f\"Column: {column}\")\n",
    "    print(f\"Range of Values: {range_min} to {range_max}\")\n",
    "    print()\n"
   ]
  },
  {
   "cell_type": "code",
   "execution_count": 64,
   "metadata": {},
   "outputs": [
    {
     "name": "stdout",
     "output_type": "stream",
     "text": [
      "Column: Income\n",
      "count     1071.000000\n",
      "mean     39295.701214\n",
      "std      30469.427060\n",
      "min          0.000000\n",
      "25%      14072.000000\n",
      "50%      36234.000000\n",
      "75%      64631.000000\n",
      "max      99960.000000\n",
      "Name: Income, dtype: float64\n",
      "\n",
      "Column: Monthly Premium Auto\n",
      "count     1071.000000\n",
      "mean       193.234360\n",
      "std       1601.190369\n",
      "min         61.000000\n",
      "25%         68.000000\n",
      "50%         83.000000\n",
      "75%        109.500000\n",
      "max      35354.000000\n",
      "Name: Monthly Premium Auto, dtype: float64\n",
      "\n",
      "Column: Total Claim Amount\n",
      "count    1071.000000\n",
      "mean      404.986909\n",
      "std       293.027260\n",
      "min         0.382107\n",
      "25%       202.157702\n",
      "50%       354.729129\n",
      "75%       532.800000\n",
      "max      2893.239678\n",
      "Name: Total Claim Amount, dtype: float64\n",
      "\n"
     ]
    }
   ],
   "source": [
    "numerical_columns = df.select_dtypes(include='number').columns\n",
    "\n",
    "for column in numerical_columns:\n",
    "    print(f\"Column: {column}\")\n",
    "    print(df[column].describe())\n",
    "    print()"
   ]
  },
  {
   "cell_type": "markdown",
   "metadata": {},
   "source": [
    "Income: \n",
    "The data on income covers a wide range of values and shows a lot of differences between individual incomes. There is a notable variation among the income levels of different people. The distribution of income seems to be a bit lopsided, with most people earning less than the average income.\n",
    "\n",
    "Montly: \n",
    "The data for monthly auto insurance premiums shows a wide range of values, meaning that there is a significant difference in the amounts people pay for their auto insurance.\n",
    "\n",
    "Total:\n",
    "The data on total claim amounts exhibits a moderate range of values, indicating some variation in the amounts claimed. The distribution of claim amounts appears to be slightly skewed to the right, meaning that there are relatively more smaller claims compared to larger ones. Most of the claim amounts are below the average or mean value.\n"
   ]
  },
  {
   "cell_type": "code",
   "execution_count": 65,
   "metadata": {},
   "outputs": [
    {
     "data": {
      "text/plain": [
       "count     954\n",
       "unique      2\n",
       "top         F\n",
       "freq      502\n",
       "Name: GENDER, dtype: object"
      ]
     },
     "execution_count": 65,
     "metadata": {},
     "output_type": "execute_result"
    }
   ],
   "source": [
    "df.GENDER.describe()"
   ]
  },
  {
   "cell_type": "markdown",
   "metadata": {},
   "source": [
    "# Challenge 2"
   ]
  },
  {
   "cell_type": "markdown",
   "metadata": {},
   "source": [
    "### Exercice 1"
   ]
  },
  {
   "cell_type": "code",
   "execution_count": 67,
   "metadata": {},
   "outputs": [
    {
     "name": "stdout",
     "output_type": "stream",
     "text": [
      "AZ             25\n",
      "WA             30\n",
      "Washington     81\n",
      "Nevada         98\n",
      "Cali          120\n",
      "Name: ST, dtype: int64\n"
     ]
    },
    {
     "data": {
      "text/plain": [
       "Nevada         98\n",
       "Washington    111\n",
       "Arizona       211\n",
       "Oregon        320\n",
       "California    331\n",
       "Name: ST, dtype: int64"
      ]
     },
     "execution_count": 67,
     "metadata": {},
     "output_type": "execute_result"
    }
   ],
   "source": [
    "customer_locations = df['ST']\n",
    "location_frequencies = customer_locations.value_counts()\n",
    "sorted_locations = location_frequencies.sort_values()\n",
    "top_5_less_common = sorted_locations.head(5)\n",
    "print(top_5_less_common)\n",
    "\n",
    "# MANERA MES FÀCIL I AJUNTANT\n",
    "df.ST = df.ST.replace('WA', 'Washington').replace('AZ', 'Arizona').replace('Cali', 'California')\n",
    "df['ST'].value_counts().nsmallest(5)\n"
   ]
  },
  {
   "cell_type": "markdown",
   "metadata": {},
   "source": [
    "### Exercicie 2"
   ]
  },
  {
   "cell_type": "code",
   "execution_count": 163,
   "metadata": {},
   "outputs": [
    {
     "name": "stdout",
     "output_type": "stream",
     "text": [
      "Total Claim Amount Statistics:\n",
      "count    1071.000000\n",
      "mean      404.986909\n",
      "std       293.027260\n",
      "min         0.382107\n",
      "25%       202.157702\n",
      "50%       354.729129\n",
      "75%       532.800000\n",
      "max      2893.239678\n",
      "Name: Total Claim Amount, dtype: float64\n",
      "High Policy Claim Amount Statistics:\n",
      "count     264.000000\n",
      "mean      782.228263\n",
      "std       292.751640\n",
      "min       537.600000\n",
      "25%       606.521741\n",
      "50%       679.597985\n",
      "75%       851.400000\n",
      "max      2893.239678\n",
      "Name: Total Claim Amount, dtype: float64\n"
     ]
    }
   ],
   "source": [
    "claim_amount_stats = df['Total Claim Amount'].describe() # i look at the statistics of the column\n",
    "claim_amount_75th_percentile = df['Total Claim Amount'].quantile(0.75) #Select the ones with 0.75 quantile\n",
    "high_claim_customers = df[df['Total Claim Amount'] > claim_amount_75th_percentile] # agafo els que tingui la quantile mes gran que 0.75\n",
    "high_claim_stats = high_claim_customers['Total Claim Amount'].describe() # miro les statistics dels cients\n",
    "\n",
    "print(\"Total Claim Amount Statistics:\")\n",
    "print(claim_amount_stats)\n",
    "print(\"High Policy Claim Amount Statistics:\")\n",
    "print(high_claim_stats)"
   ]
  },
  {
   "cell_type": "markdown",
   "metadata": {},
   "source": [
    "### Exercicie 3"
   ]
  },
  {
   "cell_type": "code",
   "execution_count": 69,
   "metadata": {},
   "outputs": [
    {
     "name": "stdout",
     "output_type": "stream",
     "text": [
      "Policy Counts:\n",
      "Personal Auto     780\n",
      "Corporate Auto    234\n",
      "Special Auto       57\n",
      "Name: Policy Type, dtype: int64\n",
      "\n",
      "Policy Type with the Highest Count:\n",
      "Personal Auto\n"
     ]
    }
   ],
   "source": [
    "# Step 1: Count the number of policies sold for each policy type\n",
    "policy_counts = df['Policy Type'].value_counts()\n",
    "\n",
    "# Step 2: Retrieve the policy type with the highest number of policies sold\n",
    "policy_type_with_highest_count = policy_counts.idxmax()\n",
    "\n",
    "# Display the policy counts and the policy type with the highest count\n",
    "print(\"Policy Counts:\")\n",
    "print(policy_counts)\n",
    "print()\n",
    "print(\"Policy Type with the Highest Count:\")\n",
    "print(policy_type_with_highest_count)"
   ]
  },
  {
   "cell_type": "markdown",
   "metadata": {},
   "source": [
    "### Exercicie 4"
   ]
  },
  {
   "cell_type": "code",
   "execution_count": 70,
   "metadata": {},
   "outputs": [
    {
     "name": "stdout",
     "output_type": "stream",
     "text": [
      "Average Income for Personal Auto Policies: 38180.69871794872\n",
      "Average Income for Corporate Auto Policies: 41390.31196581197\n"
     ]
    }
   ],
   "source": [
    "# Step 1: Create DataFrames for Personal Auto and Corporate Auto policies\n",
    "personal_auto_df = df.loc[df['Policy Type'] == 'Personal Auto'] # No cal que posis el loc\n",
    "corporate_auto_df = df.loc[df['Policy Type'] == 'Corporate Auto']\n",
    "\n",
    "# Step 2: Calculate the average income for each policy type\n",
    "personal_auto_avg_income = personal_auto_df['Income'].mean()\n",
    "corporate_auto_avg_income = corporate_auto_df['Income'].mean()\n",
    "\n",
    "# Step 3: Print the results\n",
    "print(\"Average Income for Personal Auto Policies:\", personal_auto_avg_income)\n",
    "print(\"Average Income for Corporate Auto Policies:\", corporate_auto_avg_income)"
   ]
  },
  {
   "cell_type": "code",
   "execution_count": null,
   "metadata": {},
   "outputs": [],
   "source": []
  }
 ],
 "metadata": {
  "kernelspec": {
   "display_name": "base",
   "language": "python",
   "name": "python3"
  },
  "language_info": {
   "codemirror_mode": {
    "name": "ipython",
    "version": 3
   },
   "file_extension": ".py",
   "mimetype": "text/x-python",
   "name": "python",
   "nbconvert_exporter": "python",
   "pygments_lexer": "ipython3",
   "version": "3.10.9"
  },
  "orig_nbformat": 4
 },
 "nbformat": 4,
 "nbformat_minor": 2
}
