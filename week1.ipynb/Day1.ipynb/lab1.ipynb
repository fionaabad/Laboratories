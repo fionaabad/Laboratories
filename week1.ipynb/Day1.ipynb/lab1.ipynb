{
 "cells": [
  {
   "cell_type": "code",
   "execution_count": 36,
   "metadata": {},
   "outputs": [],
   "source": [
    "products= \"t-shirt\", \"mug\", \"hat\", \"book\", \"keychain\"\n",
    "inventory= {}"
   ]
  },
  {
   "cell_type": "code",
   "execution_count": 35,
   "metadata": {},
   "outputs": [
    {
     "name": "stdout",
     "output_type": "stream",
     "text": [
      "{('t-shirt', 'mug', 'hat', 'book', 'keychain'): 3, 't-shirt': 3, 'mug': 2, 'hat': 4, 'book': 2, 'keychain': 3}\n"
     ]
    }
   ],
   "source": [
    "for product in products:\n",
    "    quantity=input(f'How many {product} are in the inventory? ')\n",
    "    inventory[product]=int(quantity)\n",
    "print(inventory)\n",
    "    "
   ]
  },
  {
   "cell_type": "code",
   "execution_count": 13,
   "metadata": {},
   "outputs": [
    {
     "name": "stdout",
     "output_type": "stream",
     "text": [
      "{'mug'} ['mug', 'mug', 'mug']\n"
     ]
    }
   ],
   "source": [
    "customer_orders= set()\n",
    "customer_orders2= []\n",
    "\n",
    "for product in range(3):\n",
    "    order=input(f'What do you want to order? ')\n",
    "    customer_orders2.append(order)\n",
    "    customer_orders.add(order)\n",
    "print(customer_orders, customer_orders2)"
   ]
  },
  {
   "cell_type": "code",
   "execution_count": 14,
   "metadata": {},
   "outputs": [
    {
     "name": "stdout",
     "output_type": "stream",
     "text": [
      "You ordered 3 products\n"
     ]
    }
   ],
   "source": [
    "total_products= len(customer_orders2)\n",
    "print(f'You ordered {total_products} products')"
   ]
  },
  {
   "cell_type": "code",
   "execution_count": 16,
   "metadata": {},
   "outputs": [
    {
     "name": "stdout",
     "output_type": "stream",
     "text": [
      "You ordered 1 unique product\n"
     ]
    }
   ],
   "source": [
    "unique_products= len(customer_orders)\n",
    "print(f'You ordered {unique_products} unique product') #tambe pots ferho transformant la llista en un set()"
   ]
  },
  {
   "cell_type": "code",
   "execution_count": 23,
   "metadata": {},
   "outputs": [
    {
     "name": "stdout",
     "output_type": "stream",
     "text": [
      "20.0 %\n"
     ]
    }
   ],
   "source": [
    "percentage=round((unique_products / len(products)) * 100,2)\n",
    "order_status= percentage\n",
    "print(f'{order_status} %')\n"
   ]
  },
  {
   "cell_type": "code",
   "execution_count": 28,
   "metadata": {},
   "outputs": [
    {
     "name": "stdout",
     "output_type": "stream",
     "text": [
      "Order Statistics: ['mug', 'mug', 'mug'] \n",
      "Total Products Ordered: 3\n",
      "Unique Products Ordered: 1\n",
      "Percentage of Unique Products Ordered: 20.0%\n"
     ]
    }
   ],
   "source": [
    "print(f'Order Statistics: {customer_orders2} ')\n",
    "print(f'Total Products Ordered: {total_products}')\n",
    "print(f'Unique Products Ordered: {unique_products}')\n",
    "print(f'Percentage of Unique Products Ordered: {order_status}%') #you can also do it in one print with /n."
   ]
  },
  {
   "cell_type": "code",
   "execution_count": 34,
   "metadata": {},
   "outputs": [
    {
     "name": "stdout",
     "output_type": "stream",
     "text": [
      "{('t-shirt', 'mug', 'hat', 'book', 'keychain'): 3, 't-shirt': 1, 'mug': 3, 'hat': 0, 'book': 5, 'keychain': 4}\n"
     ]
    }
   ],
   "source": [
    "for product in inventory:\n",
    "    inventory[product] -= 1\n",
    "print(inventory)\n",
    "\n",
    "# for (key, val) in inventory.items:\n",
    "    # val=val-1"
   ]
  }
 ],
 "metadata": {
  "kernelspec": {
   "display_name": "base",
   "language": "python",
   "name": "python3"
  },
  "language_info": {
   "codemirror_mode": {
    "name": "ipython",
    "version": 3
   },
   "file_extension": ".py",
   "mimetype": "text/x-python",
   "name": "python",
   "nbconvert_exporter": "python",
   "pygments_lexer": "ipython3",
   "version": "3.10.9"
  },
  "orig_nbformat": 4
 },
 "nbformat": 4,
 "nbformat_minor": 2
}
