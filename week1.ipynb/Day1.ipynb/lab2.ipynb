{
 "cells": [
  {
   "cell_type": "markdown",
   "metadata": {},
   "source": [
    "# Lab | Flow Control"
   ]
  },
  {
   "cell_type": "markdown",
   "metadata": {},
   "source": [
    "### a. Prompt the user to enter the name of a product that a customer wants to order."
   ]
  },
  {
   "cell_type": "code",
   "execution_count": null,
   "metadata": {},
   "outputs": [],
   "source": [
    "products= \"t-shirt\", \"mug\", \"hat\", \"book\", \"keychain\"\n",
    "inventory= {\"t-shirt\": 2, \"mug\": 4, \"hat\": 5, \"book\": 7, \"keychain\": 6}"
   ]
  },
  {
   "cell_type": "code",
   "execution_count": 1,
   "metadata": {},
   "outputs": [
    {
     "ename": "NameError",
     "evalue": "name 'customer_continues' is not defined",
     "output_type": "error",
     "traceback": [
      "\u001b[1;31m---------------------------------------------------------------------------\u001b[0m",
      "\u001b[1;31mNameError\u001b[0m                                 Traceback (most recent call last)",
      "Cell \u001b[1;32mIn[1], line 2\u001b[0m\n\u001b[0;32m      1\u001b[0m customer_continues: \u001b[39mTrue\u001b[39;00m\n\u001b[1;32m----> 2\u001b[0m \u001b[39mwhile\u001b[39;00m customer_continues:\n\u001b[0;32m      3\u001b[0m     \u001b[39mprint\u001b[39m(\u001b[39m'\u001b[39m\u001b[39mproduct names: \u001b[39m\u001b[39m'\u001b[39m)\n\u001b[0;32m      4\u001b[0m     product\u001b[39m=\u001b[39m\u001b[39minput\u001b[39m()\n",
      "\u001b[1;31mNameError\u001b[0m: name 'customer_continues' is not defined"
     ]
    }
   ],
   "source": [
    "customer_continues: True\n",
    "while customer_continues:\n",
    "    print('product names: ')\n",
    "    product=input()\n",
    "    print('quantity for: ')\n",
    "    quantity= int(input())\n",
    "    inventory[product]=quantity\n",
    "    print('continue yes/no')\n",
    "    customer_continues_input= input()\n",
    "    customer_continues= (customer_continues_input =='yes') "
   ]
  },
  {
   "cell_type": "markdown",
   "metadata": {},
   "source": [
    "#### Instead of updating the inventory by subtracting 1 from the quantity of each product, only do it for the products that were ordered (those in \"customer_orders\")."
   ]
  },
  {
   "cell_type": "code",
   "execution_count": null,
   "metadata": {},
   "outputs": [],
   "source": []
  }
 ],
 "metadata": {
  "kernelspec": {
   "display_name": "base",
   "language": "python",
   "name": "python3"
  },
  "language_info": {
   "codemirror_mode": {
    "name": "ipython",
    "version": 3
   },
   "file_extension": ".py",
   "mimetype": "text/x-python",
   "name": "python",
   "nbconvert_exporter": "python",
   "pygments_lexer": "ipython3",
   "version": "3.10.9"
  },
  "orig_nbformat": 4
 },
 "nbformat": 4,
 "nbformat_minor": 2
}
