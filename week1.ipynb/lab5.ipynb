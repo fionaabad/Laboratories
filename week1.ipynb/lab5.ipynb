{
 "cells": [
  {
   "cell_type": "code",
   "execution_count": 2,
   "metadata": {},
   "outputs": [],
   "source": [
    "products= [\"t-shirt\", \"mug\", \"hat\", \"book\", \"keychain\"]\n",
    "\n",
    "def initialize_inventory(products):\n",
    "    inventory = {}\n",
    "    for product in products:\n",
    "        valid_input = False\n",
    "        while not valid_input:\n",
    "            try:\n",
    "                quantity = int(input(f\"Enter the quantity of {product}s available: \"))\n",
    "                if quantity >= 0:\n",
    "                    inventory[product] = quantity\n",
    "                    valid_input = True\n",
    "                else:\n",
    "                    print(\"Quantity cannot be negative. Please enter a valid quantity.\")\n",
    "            except ValueError:\n",
    "                print(\"Invalid input. Please enter a valid quantity.\")\n",
    "    return inventory\n",
    "\n",
    "inventory = initialize_inventory(products)"
   ]
  },
  {
   "cell_type": "code",
   "execution_count": 3,
   "metadata": {},
   "outputs": [
    {
     "name": "stdout",
     "output_type": "stream",
     "text": [
      " not in inventory\n"
     ]
    },
    {
     "data": {
      "text/plain": [
       "{'hat', 'mug'}"
      ]
     },
     "execution_count": 3,
     "metadata": {},
     "output_type": "execute_result"
    }
   ],
   "source": [
    "def get_costumer_orders(inventory):\n",
    "    costumer_order = set()\n",
    "    valid_input = False\n",
    "    while not valid_input:\n",
    "        try:\n",
    "            n = int(input('How many products do you want? '))\n",
    "            if n >= 0:\n",
    "                for i in range(n):\n",
    "                    valid_input2 = False\n",
    "                    while not valid_input2:\n",
    "                        p = input('What is the product? ')\n",
    "                        try:\n",
    "                            if p not in inventory or inventory[p]== 0:\n",
    "                                raise KeyError()\n",
    "                        except:\n",
    "                            if p not in inventory:\n",
    "                                print(f'{p} not in inventory')\n",
    "                            elif inventory[p]==0:\n",
    "                                print(f'{p} is out of stock')\n",
    "                        else:\n",
    "                            costumer_order.add(p)\n",
    "                            valid_input = True\n",
    "                            valid_input2 = True\n",
    "            else:\n",
    "                print(\"Quantity cannot be negative. Please enter a valid quantity.\")\n",
    "        except ValueError:\n",
    "            print(\"Invalid input. Please enter a valid quantity.\")\n",
    "    \n",
    "\n",
    "    return costumer_order\n",
    "\n",
    "costumer_orders = get_costumer_orders(inventory)\n",
    "\n",
    "costumer_orders"
   ]
  },
  {
   "cell_type": "code",
   "execution_count": 3,
   "metadata": {},
   "outputs": [
    {
     "data": {
      "text/plain": [
       "4.0"
      ]
     },
     "execution_count": 3,
     "metadata": {},
     "output_type": "execute_result"
    }
   ],
   "source": [
    "def total_price(costumer_orders):\n",
    "    t_price = 0\n",
    "    for product in costumer_orders:\n",
    "        valid_input = False\n",
    "        while not valid_input:\n",
    "            try:\n",
    "                n= float(input('price for '+product))\n",
    "                if n >= 0:\n",
    "                    t_price += n\n",
    "                    valid_input = True\n",
    "                else:\n",
    "                    print(\"Quantity cannot be negative. Please enter a valid quantity.\")\n",
    "            except ValueError:\n",
    "                print(\"Invalid input. Please enter a valid quantity.\")\n",
    "                        \n",
    "    return t_price\n",
    "\n",
    "total_price(costumer_orders)"
   ]
  },
  {
   "cell_type": "code",
   "execution_count": 7,
   "metadata": {},
   "outputs": [
    {
     "name": "stdout",
     "output_type": "stream",
     "text": [
      "Not a valid input 'Quantity cannot be negative. Please enter a valid quantity.'\n",
      "Invalid input. Please enter a valid quantity. could not convert string to float: 'd'\n"
     ]
    },
    {
     "data": {
      "text/plain": [
       "26.5"
      ]
     },
     "execution_count": 7,
     "metadata": {},
     "output_type": "execute_result"
    }
   ],
   "source": [
    "def total_price(costumer_orders):\n",
    "    t_price = 0\n",
    "    for product in costumer_orders:\n",
    "        valid_input = False\n",
    "        while not valid_input:\n",
    "            try:\n",
    "                n= float(input('price for '+product))\n",
    "                if n < 0:\n",
    "                    raise KeyError(\"Quantity cannot be negative. Please enter a valid quantity.\")\n",
    "            except ValueError as err:\n",
    "                print(\"Invalid input. Please enter a valid quantity.\", err)\n",
    "            except KeyError as e:\n",
    "                print('Not a valid input', e)\n",
    "            else:\n",
    "                t_price += n\n",
    "                valid_input = True\n",
    "                \n",
    "                        \n",
    "    return t_price\n",
    "\n",
    "total_price(costumer_orders)"
   ]
  }
 ],
 "metadata": {
  "kernelspec": {
   "display_name": "base",
   "language": "python",
   "name": "python3"
  },
  "language_info": {
   "codemirror_mode": {
    "name": "ipython",
    "version": 3
   },
   "file_extension": ".py",
   "mimetype": "text/x-python",
   "name": "python",
   "nbconvert_exporter": "python",
   "pygments_lexer": "ipython3",
   "version": "3.10.9"
  },
  "orig_nbformat": 4
 },
 "nbformat": 4,
 "nbformat_minor": 2
}
