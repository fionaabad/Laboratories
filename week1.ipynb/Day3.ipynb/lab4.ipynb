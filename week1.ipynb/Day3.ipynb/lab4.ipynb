{
 "cells": [
  {
   "cell_type": "code",
   "execution_count": 4,
   "metadata": {},
   "outputs": [],
   "source": [
    "products= [\"t-shirt\", \"mug\", \"hat\", \"book\", \"keychain\"]\n",
    "\n",
    "def initialize_inventory(products):\n",
    "    inventory = {product: int(input(f\"Enter the quantity of {product}s available: \")) for product in products}\n",
    "    return inventory\n",
    "\n",
    "inventory= initialize_inventory(products)"
   ]
  },
  {
   "cell_type": "code",
   "execution_count": 5,
   "metadata": {},
   "outputs": [],
   "source": [
    "def get_customer_orders():\n",
    "    n= int(input('How many productd you want'))\n",
    "    return set(input('What do you want') for i in range(n)) #pots substituir la n per el input\n",
    "\n",
    "customer_orders= get_customer_orders()"
   ]
  },
  {
   "cell_type": "code",
   "execution_count": 6,
   "metadata": {},
   "outputs": [
    {
     "data": {
      "text/plain": [
       "4.0"
      ]
     },
     "execution_count": 6,
     "metadata": {},
     "output_type": "execute_result"
    }
   ],
   "source": [
    "def total_price(customer_orders):\n",
    "    return sum([float(input(f\"What's the price of {i}\")) for i in customer_orders])\n",
    "\n",
    "total= total_price(customer_orders)\n",
    "total"
   ]
  },
  {
   "cell_type": "code",
   "execution_count": 7,
   "metadata": {},
   "outputs": [],
   "source": [
    "def update_inventory(inventory, customer_orders):\n",
    "    for order in customer_orders:\n",
    "            inventory[order] -= 1\n",
    "    return {(key,value) for key,value in inventory.items() if value!=0}\n",
    "        \n",
    "updated_inventory= update_inventory(inventory,customer_orders)"
   ]
  },
  {
   "cell_type": "code",
   "execution_count": 11,
   "metadata": {},
   "outputs": [
    {
     "data": {
      "text/plain": [
       "'\\ndef update_inventory(inventory, customer_orders):\\n    return {(key,value) if not key in customer_orders else value-1 for key,value in inventory}\\n        \\nupdated_inventory= update_inventory(inventory,customer_orders)\\n'"
      ]
     },
     "execution_count": 11,
     "metadata": {},
     "output_type": "execute_result"
    }
   ],
   "source": [
    "# other options to do update_inventory\n",
    "'''\n",
    "def update_inventory(inventory, customer_orders):\n",
    "    return {(key,value) if not key in customer_orders else value-1 for key,value in inventory.items()}\n",
    "        \n",
    "updated_inventory= update_inventory(inventory,customer_orders)\n",
    "'''"
   ]
  },
  {
   "cell_type": "code",
   "execution_count": 8,
   "metadata": {},
   "outputs": [
    {
     "name": "stdout",
     "output_type": "stream",
     "text": [
      "4.0\n"
     ]
    }
   ],
   "source": [
    "print(total)"
   ]
  },
  {
   "cell_type": "code",
   "execution_count": 10,
   "metadata": {},
   "outputs": [
    {
     "name": "stdout",
     "output_type": "stream",
     "text": [
      "4.0\n"
     ]
    }
   ],
   "source": [
    "products= [\"t-shirt\", \"mug\", \"hat\", \"book\", \"keychain\"]\n",
    "inventory= initialize_inventory(products)\n",
    "customer_orders= get_customer_orders()\n",
    "total= total_price(customer_orders)\n",
    "updated_inventory= update_inventory(inventory,customer_orders)\n",
    "\n",
    "def initialize_inventory(products):\n",
    "    inventory = {product: int(input(f\"Enter the quantity of {product}s available: \")) for product in products}\n",
    "    return inventory\n",
    "\n",
    "\n",
    "def get_customer_orders():\n",
    "    n= int(input('How many productd you want'))\n",
    "    customer_orders=set(input('What do you want') for i in range(n))\n",
    "    return customer_orders\n",
    "\n",
    "\n",
    "def total_price(customer_orders):\n",
    "    return sum([float(input(f\"What's the price of {i}\")) for i in customer_orders])\n",
    "\n",
    "\n",
    "def update_inventory(inventory, customer_orders):\n",
    "    for order in customer_orders:\n",
    "            inventory[order] -= 1\n",
    "    return {print(key,value) for key,value in inventory.items() if value!=0}\n",
    "        \n",
    "print(total)\n"
   ]
  }
 ],
 "metadata": {
  "kernelspec": {
   "display_name": "base",
   "language": "python",
   "name": "python3"
  },
  "language_info": {
   "codemirror_mode": {
    "name": "ipython",
    "version": 3
   },
   "file_extension": ".py",
   "mimetype": "text/x-python",
   "name": "python",
   "nbconvert_exporter": "python",
   "pygments_lexer": "ipython3",
   "version": "3.10.9"
  },
  "orig_nbformat": 4
 },
 "nbformat": 4,
 "nbformat_minor": 2
}
