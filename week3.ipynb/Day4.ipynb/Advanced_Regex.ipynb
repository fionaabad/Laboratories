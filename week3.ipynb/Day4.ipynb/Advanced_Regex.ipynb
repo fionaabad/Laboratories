{
 "cells": [
  {
   "cell_type": "markdown",
   "metadata": {},
   "source": [
    "# Advanced Regular Expressions Lab\n",
    "\n",
    "Complete the following set of exercises to solidify your knowledge of regular expressions."
   ]
  },
  {
   "cell_type": "code",
   "execution_count": 1,
   "metadata": {},
   "outputs": [],
   "source": [
    "import re"
   ]
  },
  {
   "cell_type": "markdown",
   "metadata": {},
   "source": [
    "### 1. Use a regular expression to find and extract all vowels in the following text."
   ]
  },
  {
   "cell_type": "code",
   "execution_count": 2,
   "metadata": {},
   "outputs": [],
   "source": [
    "text = \"This is going to be a sentence with a good number of vowels in it.\""
   ]
  },
  {
   "cell_type": "code",
   "execution_count": 5,
   "metadata": {},
   "outputs": [],
   "source": [
    "vowels = re.findall(r'[aeiouAEIOU]', text)"
   ]
  },
  {
   "cell_type": "markdown",
   "metadata": {},
   "source": [
    "### 2. Use a regular expression to find and extract all occurrences and tenses (singular and plural) of the word \"puppy\" in the text below."
   ]
  },
  {
   "cell_type": "code",
   "execution_count": 26,
   "metadata": {},
   "outputs": [],
   "source": [
    "text = \"The puppy saw all the rest of the puppies playing and wanted to join them. I saw this and wanted a puppy of my own!\""
   ]
  },
  {
   "cell_type": "code",
   "execution_count": 41,
   "metadata": {},
   "outputs": [],
   "source": [
    "occurrences = re.findall(r'\\bpupp(?:y|ies)\\b', text)\n",
    "\n",
    "# \\b: Word boundary to ensure we match the whole word and not part of a word.\n",
    "# pupp: The literal string \"pupp\".\n",
    "# (?:y|ies): A non-capturing group that matches either \"y\" or \"ies\" (to cover both singular and plural forms).\n",
    "# \\b: Another word boundary to complete the match.\n",
    "\n",
    "# The re.findall function finds all occurrences of \"puppy\" and \"puppies\" (both singular and plural) in the text and returns them as a list."
   ]
  },
  {
   "cell_type": "markdown",
   "metadata": {},
   "source": [
    "### 3. Use a regular expression to find and extract all tenses (present and past) of the word \"run\" in the text below."
   ]
  },
  {
   "cell_type": "code",
   "execution_count": 22,
   "metadata": {},
   "outputs": [],
   "source": [
    "text = \"I ran the relay race the only way I knew how to run it.\""
   ]
  },
  {
   "cell_type": "code",
   "execution_count": 40,
   "metadata": {},
   "outputs": [],
   "source": [
    "tenses = re.findall(r'\\br(?:un|an)\\b', text)\n",
    "\n",
    "# \\b: Word boundary to ensure we match the whole word and not part of a word.\n",
    "# r: The literal character \"r\".\n",
    "# (?:un|an): A non-capturing group that matches either \"un\" (present tense) or \"an\" (past tense).\n",
    "# \\b: Another word boundary to complete the match."
   ]
  },
  {
   "cell_type": "markdown",
   "metadata": {},
   "source": [
    "### 4. Use a regular expression to find and extract all words that begin with the letter \"r\" from the previous text."
   ]
  },
  {
   "cell_type": "code",
   "execution_count": 39,
   "metadata": {},
   "outputs": [],
   "source": [
    "words_starting_with_r = re.findall(r'\\br\\w+', text)\n",
    "\n",
    "# \\b: Word boundary to ensure we match the whole word and not part of a word.\n",
    "# r: The literal character \"r\".\n",
    "# \\w+: Matches one or more word characters (letters, digits, or underscores) that follow the letter \"r\"."
   ]
  },
  {
   "cell_type": "markdown",
   "metadata": {},
   "source": [
    "### 5. Use a regular expression to find and substitute the letter \"i\" for the exclamation marks in the text below."
   ]
  },
  {
   "cell_type": "code",
   "execution_count": 29,
   "metadata": {},
   "outputs": [],
   "source": [
    "text = \"Th!s !s a sentence w!th spec!al characters !n !t.\""
   ]
  },
  {
   "cell_type": "code",
   "execution_count": 37,
   "metadata": {},
   "outputs": [],
   "source": [
    "modified_text = re.sub(r'!', 'i', text)"
   ]
  },
  {
   "cell_type": "markdown",
   "metadata": {},
   "source": [
    "### 6. Use a regular expression to find and extract words longer than 4 characters in the text below."
   ]
  },
  {
   "cell_type": "code",
   "execution_count": 31,
   "metadata": {},
   "outputs": [],
   "source": [
    "text = \"This sentence has words of varying lengths.\""
   ]
  },
  {
   "cell_type": "code",
   "execution_count": 36,
   "metadata": {},
   "outputs": [],
   "source": [
    "words_longer_than_4_chars = re.findall(r'\\b\\w{5,}\\b', text)\n",
    "\n",
    "# \\b: Word boundary to ensure we match the whole word and not part of a word.\n",
    "# \\w{5,}: Matches five or more word characters (letters, digits, or underscores) that form a word longer than 4 characters.\n",
    "# \\b: Another word boundary to complete the match."
   ]
  },
  {
   "cell_type": "markdown",
   "metadata": {},
   "source": [
    "### 7. Use a regular expression to find and extract all occurrences of the letter \"b\", some letter(s), and then the letter \"t\" in the sentence below."
   ]
  },
  {
   "cell_type": "code",
   "execution_count": 33,
   "metadata": {},
   "outputs": [],
   "source": [
    "text = \"I bet the robot couldn't beat the other bot with a bat, but instead it bit me.\""
   ]
  },
  {
   "cell_type": "code",
   "execution_count": 35,
   "metadata": {},
   "outputs": [
    {
     "data": {
      "text/plain": [
       "['bet', 'bot', 'beat', 'bot', 'bat', 'but', 'bit']"
      ]
     },
     "execution_count": 35,
     "metadata": {},
     "output_type": "execute_result"
    }
   ],
   "source": [
    "matches = re.findall(r'b\\w+t', text)\n",
    "\n",
    "# b: Matches the letter \"b\".\n",
    "# \\w+: Matches one or more word characters (letters, digits, or underscores) that follow the letter \"b\".\n",
    "# t: Matches the letter \"t\"."
   ]
  },
  {
   "cell_type": "markdown",
   "metadata": {},
   "source": [
    "### 8. Use a regular expression to find and extract all words that contain either \"ea\" or \"eo\" in them."
   ]
  },
  {
   "cell_type": "code",
   "execution_count": null,
   "metadata": {},
   "outputs": [],
   "source": [
    "text = \"During many of the peaks and troughs of history, the people living it didn't fully realize what was unfolding. But we all know we're navigating breathtaking history: Nearly every day could be — maybe will be — a book.\"\n"
   ]
  },
  {
   "cell_type": "code",
   "execution_count": 42,
   "metadata": {},
   "outputs": [],
   "source": [
    "words_with_ea_or_eo = re.findall(r'\\b\\w*ea\\w*|\\b\\w*eo\\w*', text)\n",
    "\n",
    "# \\b: Word boundary to ensure we match the whole word and not part of a word.\n",
    "# \\w*: Matches zero or more word characters (letters, digits, or underscores).\n",
    "# ea: Matches the letters \"ea\".\n",
    "# |\\b\\w*eo\\w*: The vertical bar | functions as an OR operator. This part of the pattern matches words that contain \"eo\".\n",
    "# \\w*: Matches zero or more word characters (letters, digits, or underscores).\n",
    "# eo: Matches the letters \"eo\"."
   ]
  },
  {
   "cell_type": "markdown",
   "metadata": {},
   "source": [
    "### 9. Use a regular expression to find and extract all the capitalized words in the text below individually."
   ]
  },
  {
   "cell_type": "code",
   "execution_count": 43,
   "metadata": {},
   "outputs": [],
   "source": [
    "text = \"Teddy Roosevelt and Abraham Lincoln walk into a bar.\""
   ]
  },
  {
   "cell_type": "code",
   "execution_count": 44,
   "metadata": {},
   "outputs": [],
   "source": [
    "capitalized_words = re.findall(r'\\b[A-Z][a-zA-Z]*\\b', text)\n",
    "\n",
    "# \\b: Word boundary to ensure we match the whole word and not part of a word.\n",
    "# [A-Z]: Matches an uppercase letter (the first letter of the capitalized word).\n",
    "# [a-zA-Z]*: Matches zero or more lowercase or uppercase letters that follow the initial uppercase letter.\n",
    "# \\b: Another word boundary to complete the match."
   ]
  },
  {
   "cell_type": "markdown",
   "metadata": {},
   "source": [
    "### 10. Use a regular expression to find and extract all the sets of consecutive capitalized words in the text above."
   ]
  },
  {
   "cell_type": "code",
   "execution_count": 45,
   "metadata": {},
   "outputs": [],
   "source": [
    "consecutive_capitalized_sets = re.findall(r'\\b[A-Z][a-zA-Z]*(?:\\s+[A-Z][a-zA-Z]*)*\\b', text)\n",
    "\n",
    "# \\b: Word boundary to ensure we match the whole word and not part of a word.\n",
    "# [A-Z]: Matches an uppercase letter (the first letter of the capitalized word).\n",
    "# [a-zA-Z]*: Matches zero or more lowercase or uppercase letters that follow the initial uppercase letter.\n",
    "# (?:\\s+[A-Z][a-zA-Z]*)*: A non-capturing group (?:...) that matches zero or more sets of consecutive capitalized words separated by whitespace \\s+. Each set starts with an uppercase letter followed by zero or more lowercase or uppercase letters.\n",
    "# \\b: Another word boundary to complete the match."
   ]
  },
  {
   "cell_type": "markdown",
   "metadata": {},
   "source": [
    "### 11. Use a regular expression to find and extract all the quotes from the text below.\n",
    "\n",
    "*Hint: This one is a little more complex than the single quote example in the lesson because there are multiple quotes in the text.*"
   ]
  },
  {
   "cell_type": "code",
   "execution_count": 53,
   "metadata": {},
   "outputs": [],
   "source": [
    "text = 'Roosevelt says to Lincoln, \"I will bet you $50 I can get the bartender to give me a free drink.\" Lincoln says, \"I am in!\"'"
   ]
  },
  {
   "cell_type": "code",
   "execution_count": 55,
   "metadata": {},
   "outputs": [
    {
     "data": {
      "text/plain": [
       "[]"
      ]
     },
     "execution_count": 55,
     "metadata": {},
     "output_type": "execute_result"
    }
   ],
   "source": [
    "quotes = re.findall(r'[\"\\']{2}(.*?)[\"\\']{2}', text)\n",
    "quotes"
   ]
  },
  {
   "cell_type": "markdown",
   "metadata": {},
   "source": [
    "### 12. Use a regular expression to find and extract all the numbers from the text below."
   ]
  },
  {
   "cell_type": "code",
   "execution_count": 56,
   "metadata": {},
   "outputs": [],
   "source": [
    "text = \"There were 30 students in the class. Of the 30 students, 14 were male and 16 were female. Only 10 students got A's on the exam.\""
   ]
  },
  {
   "cell_type": "code",
   "execution_count": 58,
   "metadata": {},
   "outputs": [],
   "source": [
    "numbers = re.findall(r'\\b\\d+(?:\\.\\d+)?\\b', text)\n",
    "\n",
    "# \\b: Word boundary to ensure we match the whole number and not part of a larger number.\n",
    "# \\d+: Matches one or more digits (0-9) that make up the integer part of the number.\n",
    "# (?:\\.\\d+)?: A non-capturing group (?:...) that matches the decimal part of the number, which is optional. It consists of a period \\. followed by one or more digits \\d+.\n",
    "# \\b: Another word boundary to complete the match."
   ]
  },
  {
   "cell_type": "markdown",
   "metadata": {},
   "source": [
    "### 13. Use a regular expression to find and extract all the social security numbers from the text below."
   ]
  },
  {
   "cell_type": "code",
   "execution_count": 60,
   "metadata": {},
   "outputs": [],
   "source": [
    "text = \"\"\"\n",
    "Henry's social security number is 876-93-2289 and his phone number is (847)789-0984.\n",
    "Darlene's social security number is 098-32-5295 and her phone number is (987)222-0901.\n",
    "\"\"\""
   ]
  },
  {
   "cell_type": "code",
   "execution_count": 62,
   "metadata": {},
   "outputs": [],
   "source": [
    "ssns = re.findall(r'\\b\\d{3}-\\d{2}-\\d{4}\\b', text)\n",
    "\n",
    "# \\b: Word boundary to ensure we match the whole SSN and not part of a larger number.\n",
    "# \\d{3}: Matches exactly three digits (0-9) for the area number.\n",
    "# -: Matches the hyphen character '-'.\n",
    "# \\d{2}: Matches exactly two digits for the group number.\n",
    "# -: Matches another hyphen.\n",
    "# \\d{4}: Matches exactly four digits for the serial number.\n",
    "# \\b: Another word boundary to complete the match."
   ]
  },
  {
   "cell_type": "markdown",
   "metadata": {},
   "source": [
    "### 14. Use a regular expression to find and extract all the phone numbers from the text below."
   ]
  },
  {
   "cell_type": "code",
   "execution_count": 66,
   "metadata": {},
   "outputs": [],
   "source": [
    "phone_numbers = re.findall(r'\\(?\\d{3}\\)?[-.\\s]?\\d{3}[-.\\s]?\\d{4}', text)\n",
    "\n",
    "# \\(?\\d{3}\\)?: Matches an optional opening parenthesis \\(, followed by exactly three digits (0-9), and an optional closing parenthesis \\) for the area code.\n",
    "# [-.\\s]?: Matches an optional hyphen -, dot ., or whitespace \\s after the area code.\n",
    "# \\d{3}: Matches exactly three digits for the central office code.\n",
    "# [-.\\s]?: Matches an optional hyphen -, dot ., or whitespace \\s after the central office code.\n",
    "# \\d{4}: Matches exactly four digits for the line number."
   ]
  },
  {
   "cell_type": "markdown",
   "metadata": {},
   "source": [
    "### 15. Use a regular expression to find and extract all the formatted numbers (both social security and phone) from the text below."
   ]
  },
  {
   "cell_type": "code",
   "execution_count": 68,
   "metadata": {},
   "outputs": [],
   "source": [
    "formatted_numbers = re.findall(r'\\b(?:\\d{3}-\\d{2}-\\d{4}|\\(?\\d{3}\\)?[-.\\s]?\\d{3}[-.\\s]?\\d{4})\\b', text)\n",
    "\n",
    "# \\b: Word boundary to ensure we match the whole formatted number and not part of a larger number.\n",
    "# (?:...): A non-capturing group that matches either a Social Security Number pattern (\\d{3}-\\d{2}-\\d{4}) or a phone number pattern (\\(?\\d{3}\\)?[-.\\s]?\\d{3}[-.\\s]?\\d{4}).\n",
    "# \\d{3}-\\d{2}-\\d{4}: Matches the Social Security Number pattern with hyphens.\n",
    "# \\(?\\d{3}\\)?[-.\\s]?\\d{3}[-.\\s]?\\d{4}: Matches the phone number pattern, which can have optional parentheses and various separators.\n",
    "# \\b: Another word boundary to complete the match."
   ]
  }
 ],
 "metadata": {
  "kernelspec": {
   "display_name": "Python 3",
   "language": "python",
   "name": "python3"
  },
  "language_info": {
   "codemirror_mode": {
    "name": "ipython",
    "version": 3
   },
   "file_extension": ".py",
   "mimetype": "text/x-python",
   "name": "python",
   "nbconvert_exporter": "python",
   "pygments_lexer": "ipython3",
   "version": "3.10.9"
  }
 },
 "nbformat": 4,
 "nbformat_minor": 2
}
