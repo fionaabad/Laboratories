{
 "cells": [
  {
   "cell_type": "markdown",
   "metadata": {},
   "source": [
    "# Code Simplicity and Efficiency"
   ]
  },
  {
   "cell_type": "markdown",
   "metadata": {},
   "source": [
    "\n",
    "# Challenge 1"
   ]
  },
  {
   "cell_type": "code",
   "execution_count": 77,
   "metadata": {},
   "outputs": [],
   "source": [
    "dict = {'zero': 0, 'one': 1, 'two': 2, 'three' : 3, 'four' : 4, 'five' : 5, 'six': 6, 'seven': 7, 'eight': 8, 'nine' : 9, 'ten': 10  }"
   ]
  },
  {
   "cell_type": "code",
   "execution_count": 78,
   "metadata": {},
   "outputs": [
    {
     "name": "stdout",
     "output_type": "stream",
     "text": [
      "6 plus 6 equals negative zero\n"
     ]
    }
   ],
   "source": [
    "# We ask for two numbers given to us in string mode\n",
    "\n",
    "\n",
    "def enter_number():\n",
    "    variables = [\n",
    "        str(input(\"Write a number beetwen 0 and 5 as a string\")) for number in range(2)\n",
    "    ]\n",
    "    return variables\n",
    "\n",
    "\n",
    "variables = enter_number()\n",
    "\n",
    "\n",
    "# We turn those string into ints\n",
    "\n",
    "\n",
    "def turn_numbers(variables):\n",
    "    dict = {\"zero\": 0, \"one\": 1, \"two\": 2, \"three\": 3, \"four\": 4, \"five\": 5}\n",
    "    var_num = []\n",
    "    for string in variables:\n",
    "        if string in dict:\n",
    "            var_num.append(int(dict[string]))\n",
    "    return var_num\n",
    "\n",
    "\n",
    "var_num = turn_numbers(variables)\n",
    "\n",
    "# We ask for an operation\n",
    "\n",
    "\n",
    "def enter_operation():\n",
    "    operation = input(\"What do you want to do? plus or minus: \")\n",
    "    return operation\n",
    "\n",
    "\n",
    "operation = enter_operation()\n",
    "\n",
    "# We do the calcul\n",
    "\n",
    "\n",
    "def calculation(var_num, operation):\n",
    "    result = 0\n",
    "    if operation == \"plus\":\n",
    "        result += sum(var_num)\n",
    "    elif operation == \"minus\":\n",
    "        result = var_num[0] - var_num[1]\n",
    "    return result\n",
    "\n",
    "\n",
    "result = calculation(var_num, operation)\n",
    "\n",
    "\n",
    "def printing(variables, operation, result, dict):\n",
    "    inv_dict = {v: k for k, v in dict.items()}\n",
    "    if result > 0:\n",
    "        print(f\"{variables[0]} {operation} {variables[1]} equals {inv_dict[result]}\")\n",
    "    else:\n",
    "        print(\n",
    "            f\"{variables[0]} {operation} {variables[1]} equals negative {inv_dict[abs(result)]}\"\n",
    "        )\n",
    "\n",
    "\n",
    "printing(variables, operation, result, dict)"
   ]
  },
  {
   "cell_type": "markdown",
   "metadata": {},
   "source": [
    "# Challenge 2"
   ]
  },
  {
   "cell_type": "code",
   "execution_count": 2,
   "metadata": {},
   "outputs": [],
   "source": [
    "import random\n",
    "\n",
    "def RandomStringGenerator(l=12, a='abcdefghijklmnopqrstuvwxyz123456789'):\n",
    "    s = ''.join(random.choice(a) for i in range(l))\n",
    "    return s"
   ]
  },
  {
   "cell_type": "code",
   "execution_count": 3,
   "metadata": {},
   "outputs": [],
   "source": [
    "def BatchStringGenerator(n, a=8, b=12):\n",
    "    if a < b:\n",
    "        return [RandomStringGenerator(random.choice(range(a, b))) for i in range(n)]\n",
    "    elif a == b:\n",
    "        return [RandomStringGenerator(a) for i in range(n)]\n",
    "    else:\n",
    "        import sys\n",
    "\n",
    "        sys.exit(\"Incorrect min and max string lengths. Try again.\")"
   ]
  },
  {
   "cell_type": "code",
   "execution_count": 4,
   "metadata": {},
   "outputs": [
    {
     "name": "stdout",
     "output_type": "stream",
     "text": [
      "['r6m', 'xza', 'dal']\n"
     ]
    }
   ],
   "source": [
    "a = input(\"Enter minimum string length: \")\n",
    "b = input(\"Enter maximum string length: \")\n",
    "n = input(\"How many random strings to generate? \")\n",
    "\n",
    "print(BatchStringGenerator(int(n), int(a), int(b)))"
   ]
  },
  {
   "cell_type": "markdown",
   "metadata": {},
   "source": [
    "# Challenge 3"
   ]
  },
  {
   "cell_type": "code",
   "execution_count": 82,
   "metadata": {},
   "outputs": [
    {
     "name": "stdout",
     "output_type": "stream",
     "text": [
      "The longest side possible is 5\n"
     ]
    }
   ],
   "source": [
    "def my_function(X):\n",
    "    solutions = [\n",
    "        [x, y, z]\n",
    "        for x in range(5, X)\n",
    "        for y in range(4, X)\n",
    "        for z in range(3, X)\n",
    "        if x * x == y * y + z * z\n",
    "    ]\n",
    "\n",
    "    m = max(max(solution) for solution in solutions)\n",
    "    return m\n",
    "\n",
    "\n",
    "X = input(\"What is the maximal length of the triangle side? Enter a number: \")\n",
    "\n",
    "print(\"The longest side possible is \" + str(my_function(int(X))))"
   ]
  }
 ],
 "metadata": {
  "kernelspec": {
   "display_name": "base",
   "language": "python",
   "name": "python3"
  },
  "language_info": {
   "codemirror_mode": {
    "name": "ipython",
    "version": 3
   },
   "file_extension": ".py",
   "mimetype": "text/x-python",
   "name": "python",
   "nbconvert_exporter": "python",
   "pygments_lexer": "ipython3",
   "version": "3.10.9"
  },
  "orig_nbformat": 4
 },
 "nbformat": 4,
 "nbformat_minor": 2
}
