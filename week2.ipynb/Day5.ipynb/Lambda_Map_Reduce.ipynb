{
 "cells": [
  {
   "cell_type": "markdown",
   "metadata": {},
   "source": [
    "## Challenge 1"
   ]
  },
  {
   "cell_type": "markdown",
   "metadata": {},
   "source": [
    "### Exercise 1\n",
    "#### Create a new list called credits that includes all of the debit transactions from the list transactions. Use the filter() function to create a new list called debits."
   ]
  },
  {
   "cell_type": "code",
   "execution_count": 27,
   "metadata": {},
   "outputs": [],
   "source": [
    "transactions = [(-1200, 'debit'), (2500, 'credit'), (-100, 'debit'), (850, 'credit'), (-250, 'debit'), (1500, 'credit'), (-300, 'debit'), (5000, 'credit'), (-850, 'debit'), (1000, 'credit')]"
   ]
  },
  {
   "cell_type": "code",
   "execution_count": 28,
   "metadata": {},
   "outputs": [],
   "source": [
    "def is_debits(transaction):\n",
    "    return transaction[1] == 'debit'\n",
    "\n",
    "y = filter(is_debits, transactions)\n",
    "debits = list(y)"
   ]
  },
  {
   "cell_type": "code",
   "execution_count": 29,
   "metadata": {},
   "outputs": [],
   "source": [
    "y = filter(lambda t: t[1] == 'debit', transactions)\n",
    "debits = list(y)"
   ]
  },
  {
   "cell_type": "markdown",
   "metadata": {},
   "source": [
    "### Exercise 2\n",
    "#### Create a new list that includes all of the debit transactions from the list transactions, sorted in descending order by amount."
   ]
  },
  {
   "cell_type": "code",
   "execution_count": 30,
   "metadata": {},
   "outputs": [
    {
     "data": {
      "text/plain": [
       "[(-1200, 'debit'),\n",
       " (-850, 'debit'),\n",
       " (-300, 'debit'),\n",
       " (-250, 'debit'),\n",
       " (-100, 'debit')]"
      ]
     },
     "execution_count": 30,
     "metadata": {},
     "output_type": "execute_result"
    }
   ],
   "source": [
    "# Define a lambda function called sort_descending that takes two tuples and returns True if the transaction amount of the first tuple is greater than the transaction amount of the second tuple.\n",
    "sorted_debts = sorted(debits, key= lambda t1: t1[0], reverse=False)\n",
    "sorted_debts"
   ]
  },
  {
   "cell_type": "markdown",
   "metadata": {},
   "source": [
    "## Challenge 2: Interest Calculation"
   ]
  },
  {
   "cell_type": "markdown",
   "metadata": {},
   "source": [
    "### Exercise 1"
   ]
  },
  {
   "cell_type": "markdown",
   "metadata": {},
   "source": [
    "#### Write Python code to take a list of bank account balances, and returns a new list containing the balance after one year of interest has been added. Use the map function to apply this function to the list of bank accounts, and take an interest rate of 0.05."
   ]
  },
  {
   "cell_type": "code",
   "execution_count": 31,
   "metadata": {},
   "outputs": [
    {
     "data": {
      "text/plain": [
       "[105.0, 52.5, -26.25, 1050.0, -10.5]"
      ]
     },
     "execution_count": 31,
     "metadata": {},
     "output_type": "execute_result"
    }
   ],
   "source": [
    "# create list of bank account balances\n",
    "balances = [100, 50, -25, 1000, -10]\n",
    "\n",
    "interest = lambda i: i*(1+0.05)\n",
    "\n",
    "y = map(interest, balances)\n",
    "interest = list(y)\n",
    "interest\n"
   ]
  },
  {
   "cell_type": "markdown",
   "metadata": {},
   "source": [
    "### Exercise 2\n",
    "#### Write Python code to take a list of bank account dictionaries, each containing the account balance and interest rate, and returns a new list of dictionaries containing the balance after one year of interest has been added. Use the map function to apply this function to the list of bank accounts."
   ]
  },
  {
   "cell_type": "code",
   "execution_count": 32,
   "metadata": {},
   "outputs": [
    {
     "data": {
      "text/plain": [
       "[1020.0, 2020.0, 515.0]"
      ]
     },
     "execution_count": 32,
     "metadata": {},
     "output_type": "execute_result"
    }
   ],
   "source": [
    "# create list of bank account balances\n",
    "accounts = [\n",
    "    {'balance': 1000, 'interest_rate': 0.02},\n",
    "    {'balance': 2000, 'interest_rate': 0.01},\n",
    "    {'balance': 500, 'interest_rate': 0.03},\n",
    "]\n",
    "\n",
    "interest2= lambda t: t['balance'] * (1+t['interest_rate'])\n",
    "\n",
    "y = map(interest2, accounts)\n",
    "interest = list(y)\n",
    "interest\n"
   ]
  },
  {
   "cell_type": "markdown",
   "metadata": {},
   "source": [
    "## Challenge 3"
   ]
  },
  {
   "cell_type": "markdown",
   "metadata": {},
   "source": [
    "### Exercise 1\n",
    "#### Write Python code to take the new list of bank account balances (balances list after applying an interest_rate of 0.05, result of Challenge 1 Exercise 1), and print the total amount of negative balances. Use filter and reduce function."
   ]
  },
  {
   "cell_type": "code",
   "execution_count": 33,
   "metadata": {},
   "outputs": [
    {
     "data": {
      "text/plain": [
       "-36.75"
      ]
     },
     "execution_count": 33,
     "metadata": {},
     "output_type": "execute_result"
    }
   ],
   "source": [
    "from functools import reduce\n",
    "\n",
    "interest = [105.0, 52.5, -26.25, 1050.0, -10.5]\n",
    "negative = lambda t: t<0\n",
    "x = filter(negative, interest)\n",
    "negative_values = list(x)\n",
    "sum = lambda x, y: x + y\n",
    "\n",
    "sum_of_numbers = reduce(sum, negative_values)\n",
    "sum_of_numbers\n"
   ]
  },
  {
   "cell_type": "markdown",
   "metadata": {},
   "source": [
    "### Exercise 2\n",
    "#### Write a Python function called calculate_balance that takes a bank account dictionary as an argument and returns the remaining balance after subtracting all the withdrawals.\n",
    "\n",
    "#### Then, use the map function and the calculate_balance function to apply it to the list accounts. This should give you a list of remaining balances after all the withdrawals have been subtracted."
   ]
  },
  {
   "cell_type": "code",
   "execution_count": 34,
   "metadata": {},
   "outputs": [
    {
     "ename": "TypeError",
     "evalue": "<lambda>() missing 1 required positional argument: 'y'",
     "output_type": "error",
     "traceback": [
      "\u001b[1;31m---------------------------------------------------------------------------\u001b[0m",
      "\u001b[1;31mTypeError\u001b[0m                                 Traceback (most recent call last)",
      "Cell \u001b[1;32mIn[34], line 7\u001b[0m\n\u001b[0;32m      1\u001b[0m accounts \u001b[39m=\u001b[39m [\n\u001b[0;32m      2\u001b[0m     {\u001b[39m'\u001b[39m\u001b[39mbalance\u001b[39m\u001b[39m'\u001b[39m: \u001b[39m1000\u001b[39m, \u001b[39m'\u001b[39m\u001b[39mwithdrawals\u001b[39m\u001b[39m'\u001b[39m: [\u001b[39m100\u001b[39m, \u001b[39m50\u001b[39m, \u001b[39m200\u001b[39m]},\n\u001b[0;32m      3\u001b[0m     {\u001b[39m'\u001b[39m\u001b[39mbalance\u001b[39m\u001b[39m'\u001b[39m: \u001b[39m2000\u001b[39m, \u001b[39m'\u001b[39m\u001b[39mwithdrawals\u001b[39m\u001b[39m'\u001b[39m: [\u001b[39m300\u001b[39m, \u001b[39m100\u001b[39m]},\n\u001b[0;32m      4\u001b[0m     {\u001b[39m'\u001b[39m\u001b[39mbalance\u001b[39m\u001b[39m'\u001b[39m: \u001b[39m500\u001b[39m, \u001b[39m'\u001b[39m\u001b[39mwithdrawals\u001b[39m\u001b[39m'\u001b[39m: [\u001b[39m50\u001b[39m, \u001b[39m100\u001b[39m, \u001b[39m75\u001b[39m]},\n\u001b[0;32m      5\u001b[0m ]\n\u001b[1;32m----> 7\u001b[0m remaining_balances \u001b[39m=\u001b[39m \u001b[39mlist\u001b[39;49m(\u001b[39mmap\u001b[39;49m(\u001b[39mlambda\u001b[39;49;00m account: account[\u001b[39m'\u001b[39;49m\u001b[39mbalance\u001b[39;49m\u001b[39m'\u001b[39;49m] \u001b[39m-\u001b[39;49m \u001b[39msum\u001b[39;49m(account[\u001b[39m'\u001b[39;49m\u001b[39mwithdrawals\u001b[39;49m\u001b[39m'\u001b[39;49m]), accounts))\n\u001b[0;32m      8\u001b[0m \u001b[39mprint\u001b[39m(remaining_balances)\n",
      "Cell \u001b[1;32mIn[34], line 7\u001b[0m, in \u001b[0;36m<lambda>\u001b[1;34m(account)\u001b[0m\n\u001b[0;32m      1\u001b[0m accounts \u001b[39m=\u001b[39m [\n\u001b[0;32m      2\u001b[0m     {\u001b[39m'\u001b[39m\u001b[39mbalance\u001b[39m\u001b[39m'\u001b[39m: \u001b[39m1000\u001b[39m, \u001b[39m'\u001b[39m\u001b[39mwithdrawals\u001b[39m\u001b[39m'\u001b[39m: [\u001b[39m100\u001b[39m, \u001b[39m50\u001b[39m, \u001b[39m200\u001b[39m]},\n\u001b[0;32m      3\u001b[0m     {\u001b[39m'\u001b[39m\u001b[39mbalance\u001b[39m\u001b[39m'\u001b[39m: \u001b[39m2000\u001b[39m, \u001b[39m'\u001b[39m\u001b[39mwithdrawals\u001b[39m\u001b[39m'\u001b[39m: [\u001b[39m300\u001b[39m, \u001b[39m100\u001b[39m]},\n\u001b[0;32m      4\u001b[0m     {\u001b[39m'\u001b[39m\u001b[39mbalance\u001b[39m\u001b[39m'\u001b[39m: \u001b[39m500\u001b[39m, \u001b[39m'\u001b[39m\u001b[39mwithdrawals\u001b[39m\u001b[39m'\u001b[39m: [\u001b[39m50\u001b[39m, \u001b[39m100\u001b[39m, \u001b[39m75\u001b[39m]},\n\u001b[0;32m      5\u001b[0m ]\n\u001b[1;32m----> 7\u001b[0m remaining_balances \u001b[39m=\u001b[39m \u001b[39mlist\u001b[39m(\u001b[39mmap\u001b[39m(\u001b[39mlambda\u001b[39;00m account: account[\u001b[39m'\u001b[39m\u001b[39mbalance\u001b[39m\u001b[39m'\u001b[39m] \u001b[39m-\u001b[39m \u001b[39msum\u001b[39;49m(account[\u001b[39m'\u001b[39;49m\u001b[39mwithdrawals\u001b[39;49m\u001b[39m'\u001b[39;49m]), accounts))\n\u001b[0;32m      8\u001b[0m \u001b[39mprint\u001b[39m(remaining_balances)\n",
      "\u001b[1;31mTypeError\u001b[0m: <lambda>() missing 1 required positional argument: 'y'"
     ]
    }
   ],
   "source": [
    "accounts = [\n",
    "    {'balance': 1000, 'withdrawals': [100, 50, 200]},\n",
    "    {'balance': 2000, 'withdrawals': [300, 100]},\n",
    "    {'balance': 500, 'withdrawals': [50, 100, 75]},\n",
    "]\n",
    "\n",
    "remaining_balances = list(map(lambda account: account['balance'] - sum(account['withdrawals']), accounts))\n",
    "print(remaining_balances)"
   ]
  }
 ],
 "metadata": {
  "kernelspec": {
   "display_name": "base",
   "language": "python",
   "name": "python3"
  },
  "language_info": {
   "codemirror_mode": {
    "name": "ipython",
    "version": 3
   },
   "file_extension": ".py",
   "mimetype": "text/x-python",
   "name": "python",
   "nbconvert_exporter": "python",
   "pygments_lexer": "ipython3",
   "version": "3.10.9"
  },
  "orig_nbformat": 4
 },
 "nbformat": 4,
 "nbformat_minor": 2
}
