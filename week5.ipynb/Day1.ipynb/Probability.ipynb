{
 "cells": [
  {
   "cell_type": "markdown",
   "metadata": {},
   "source": [
    "# Introduction To Probability\n",
    "## Challenge 1\n",
    "\n",
    "A and B are events of a probability space with $(\\omega, \\sigma, P)$ such that $P(A) = 0.3$, $P(B) = 0.6$ and $P(A \\cap B) = 0.1$\n",
    "\n",
    "Which of the following statements are false?\n",
    "* $P(A \\cup B) = 0.6$\n",
    "* $P(A \\cap B^{C}) = 0.2$\n",
    "* $P(A \\cap (B \\cup B^{C})) = 0.4$\n",
    "* $P(A^{C} \\cap B^{C}) = 0.3$\n",
    "* $P((A \\cap B)^{C}) = 0.9$"
   ]
  },
  {
   "cell_type": "code",
   "execution_count": null,
   "metadata": {},
   "outputs": [],
   "source": [
    "\"\"\"\n",
    "\n",
    "Tip: Fes-te el dibuix\n",
    "Tip 2: Complementari de B. Tot el que no es B\n",
    "\n",
    "1. FLASE. Union = 0.8\n",
    "2. TRUE. Complementari de B (tot el que no es B que tambe inclou A. Llavors volem A que no sigui B)\n",
    "3. FALSE. It is equal to P(A): 0.3\n",
    "4. FALSE --> Assumim que el space = 1. Per tant el resultat es 0.2. A es Bc, B es Ac, agafem el espai. Veure en un dibuix\n",
    "5. TRUE --> Tornem a assumir que el space es= 1. Agafem tot menys la intersecció = 0.1. 1-0.1 = 0.9\n",
    "\n",
    "\n",
    "1.\n",
    "P(A ∪ B) = P(A) + P(B) - P(A ∩ B)\n",
    "P(A ∪ B) = 0.3 + 0.6 - 0.1\n",
    "P(A ∪ B) = 0.8\n",
    "\n",
    "2.\n",
    "P(A ∩ B^C) = P(A) - P(A ∩ B)\n",
    "P(A ∩ B^C) = 0.3 - 0.1\n",
    "P(A ∩ B^C) = 0.2\n",
    "\n",
    "3.\n",
    "P(A ∩ (B ∪ B^C)) = P(A)\n",
    "Since B ∪ B^C = Ω (the whole sample space), and P(Ω) = 1, then:\n",
    "P(A ∩ (B ∪ B^C)) = P(A) = 0.3\n",
    "\n",
    "4.\n",
    "P(A^C ∩ B^C) = 1 - P(A ∪ B)\n",
    "P(A^C ∩ B^C) = 1 - 0.8\n",
    "P(A^C ∩ B^C) = 0.2\n",
    "\n",
    "5.\n",
    "P((A ∩ B)^C) = 1 - P(A ∩ B)\n",
    "P((A ∩ B)^C) = 1 - 0.1\n",
    "P((A ∩ B)^C) = 0.9\n",
    "\"\"\""
   ]
  },
  {
   "cell_type": "markdown",
   "metadata": {},
   "source": [
    "## Challenge 2\n",
    "There is a box with 10 white balls, 12 red balls and 8 black balls. Calculate the probability of:\n",
    "* Taking a white ball out.\n",
    "* Taking a white ball out after taking a black ball out.\n",
    "* Taking a red ball out after taking a black and a red ball out.\n",
    "* Taking a red ball out after taking a black and a red ball out with reposition.\n",
    "\n",
    "**Hint**: Reposition means putting back the ball into the box after taking it out."
   ]
  },
  {
   "cell_type": "code",
   "execution_count": null,
   "metadata": {},
   "outputs": [],
   "source": [
    "\"\"\"\n",
    "1. Total = 30, With balls = 10 --> 1/3\n",
    "\n",
    "2. 1rs ball black: 4/15 (8/30), second ball white --> 10/29\n",
    "\n",
    "3. 1rs ball black: 4/15(8/30), second ball red 12/29, third ball red --> 11/28\n",
    "\n",
    "4. 12/30 (2/5)\n",
    "\"\"\""
   ]
  },
  {
   "cell_type": "markdown",
   "metadata": {},
   "source": [
    "## Challenge 3\n",
    "\n",
    "You are planning to go on a picnic today but the morning is cloudy. You hate rain so you don't know whether to go out or stay home! To help you make a decision, you gather the following data about rainy days:\n",
    "\n",
    "* Knowing that it is a rainy day, the probability of cloudy is 50%!\n",
    "* The probability of any day (rainy or not) starting off cloudy is 40%. \n",
    "* This month is usually dry so only 3 of 30 days (10%) tend to be rainy. \n",
    "\n",
    "What is the probability of rain, given the day started cloudy?"
   ]
  },
  {
   "cell_type": "code",
   "execution_count": 1,
   "metadata": {},
   "outputs": [
    {
     "data": {
      "text/plain": [
       "\"\\nAccording to the information given:\\nP(A) = Probability of rain = 0.10 (10% of days are rainy)\\nP(B|A) = Probability of starting cloudy given it's a rainy day = 0.50 (50%)\\nP(B) = Probability of starting cloudy on any day (rainy or not) = 0.40 (40%)\\n\\nNow, we can use Bayes' theorem:\\n\\nP(A|B) = P(B|A) * P(A) / P(B)\\n\\nSubstitute the values:\\n\\nP(A|B) = 0.50 * 0.10 / 0.40\\n\\nCalculate:\\n\\nP(A|B) = 0.05 / 0.40\\n\\nP(A|B) = 0.125\\n\\nSo, the probability of rain, given the day started cloudy, is 12.5% (or 0.125 as a decimal).\\n\\n\""
      ]
     },
     "execution_count": 1,
     "metadata": {},
     "output_type": "execute_result"
    }
   ],
   "source": [
    "\"\"\"\n",
    "According to the information given:\n",
    "P(A) = Probability of rain = 0.10 (10% of days are rainy)\n",
    "P(B|A) = Probability of starting cloudy given it's a rainy day = 0.50 (50%)\n",
    "P(B) = Probability of starting cloudy on any day (rainy or not) = 0.40 (40%)\n",
    "\n",
    "Now, we can use Bayes' theorem:\n",
    "\n",
    "P(A|B) = P(B|A) * P(A) / P(B)\n",
    " Substitute the values:\n",
    "\n",
    "P(A|B) = 0.50 * 0.10 / 0.40\n",
    "\n",
    "Calculate:\n",
    "\n",
    "P(A|B) = 0.05 / 0.40\n",
    "\n",
    "P(A|B) = 0.125\n",
    "\n",
    "So, the probability of rain, given the day started cloudy, is 12.5% (or 0.125 as a decimal).\n",
    "\n",
    "\"\"\""
   ]
  },
  {
   "cell_type": "markdown",
   "metadata": {},
   "source": [
    "## Challenge 4\n",
    "\n",
    "One thousand people were asked through a telephone survey whether they thought more street lighting is needed at night or not.\n",
    "\n",
    "Out of the 480 men that answered the survey, 324 said yes and 156 said no. On the other hand, out of the 520 women that answered, 351 said yes and 169 said no. \n",
    "\n",
    "We wonder if men and women have a different opinions about the street lighting matter. Is gender relevant or irrelevant to the question?\n",
    "\n",
    "Consider the following events:\n",
    "- The answer is yes, so the person that answered thinks that more street lighting is needed.\n",
    "- The person who answered is a man.\n",
    "\n",
    "We want to know if these events are independent, that is, if the fact of wanting more light depends on whether one is male or female. Are these events independent or not?\n",
    "\n",
    "**Hint**: To clearly compare the answers by gender, it is best to place the data in a table."
   ]
  },
  {
   "cell_type": "code",
   "execution_count": 7,
   "metadata": {},
   "outputs": [
    {
     "data": {
      "text/html": [
       "<div>\n",
       "<style scoped>\n",
       "    .dataframe tbody tr th:only-of-type {\n",
       "        vertical-align: middle;\n",
       "    }\n",
       "\n",
       "    .dataframe tbody tr th {\n",
       "        vertical-align: top;\n",
       "    }\n",
       "\n",
       "    .dataframe thead th {\n",
       "        text-align: right;\n",
       "    }\n",
       "</style>\n",
       "<table border=\"1\" class=\"dataframe\">\n",
       "  <thead>\n",
       "    <tr style=\"text-align: right;\">\n",
       "      <th></th>\n",
       "      <th>-</th>\n",
       "      <th>Male</th>\n",
       "      <th>Female</th>\n",
       "    </tr>\n",
       "  </thead>\n",
       "  <tbody>\n",
       "    <tr>\n",
       "      <th>0</th>\n",
       "      <td>YES</td>\n",
       "      <td>0.675</td>\n",
       "      <td>0.675</td>\n",
       "    </tr>\n",
       "    <tr>\n",
       "      <th>1</th>\n",
       "      <td>NO</td>\n",
       "      <td>0.325</td>\n",
       "      <td>0.325</td>\n",
       "    </tr>\n",
       "  </tbody>\n",
       "</table>\n",
       "</div>"
      ],
      "text/plain": [
       "     -  Male   Female\n",
       "0  YES  0.675   0.675\n",
       "1   NO  0.325   0.325"
      ]
     },
     "execution_count": 7,
     "metadata": {},
     "output_type": "execute_result"
    }
   ],
   "source": [
    "import pandas as pd\n",
    "data = {\n",
    "    '-': ['YES', 'NO'],\n",
    "    'Male ': [27/40, 13/40],\n",
    "    'Female': [27/40, 13/40]\n",
    "}\n",
    "\n",
    "df = pd.DataFrame(data)\n",
    "df"
   ]
  },
  {
   "cell_type": "code",
   "execution_count": null,
   "metadata": {},
   "outputs": [],
   "source": [
    "\"\"\"\n",
    "\n",
    "Gender doesen't condition the answer.\n",
    "\n",
    "\"\"\""
   ]
  }
 ],
 "metadata": {
  "kernelspec": {
   "display_name": "Python 3",
   "language": "python",
   "name": "python3"
  },
  "language_info": {
   "codemirror_mode": {
    "name": "ipython",
    "version": 3
   },
   "file_extension": ".py",
   "mimetype": "text/x-python",
   "name": "python",
   "nbconvert_exporter": "python",
   "pygments_lexer": "ipython3",
   "version": "3.11.4"
  }
 },
 "nbformat": 4,
 "nbformat_minor": 2
}
