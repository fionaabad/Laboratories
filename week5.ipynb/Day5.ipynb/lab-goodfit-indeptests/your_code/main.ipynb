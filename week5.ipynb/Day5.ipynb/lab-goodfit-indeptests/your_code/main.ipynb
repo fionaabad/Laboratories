{
 "cells": [
  {
   "cell_type": "markdown",
   "metadata": {},
   "source": [
    "## Question 1\n",
    "The following table indicates the number of 6-point scores in an American rugby match in the 1979 season.\n",
    "\n",
    "![](table1.png)\n",
    "\n",
    "Based on these results, we create a Poisson distribution with the sample mean parameter  = 2.435. Is there any reason to believe that at a .05 level the number of scores is a Poisson variable?"
   ]
  },
  {
   "cell_type": "code",
   "execution_count": 63,
   "metadata": {},
   "outputs": [],
   "source": [
    "import numpy as np\n",
    "from scipy.stats import chisquare, poisson"
   ]
  },
  {
   "cell_type": "code",
   "execution_count": 64,
   "metadata": {},
   "outputs": [
    {
     "name": "stdout",
     "output_type": "stream",
     "text": [
      "Chi-square value: 6.491310681109862\n",
      "P-value: 0.48368890685372257\n",
      "There is no evidence to suggest that the number of scores is not a Poisson variable.\n"
     ]
    }
   ],
   "source": [
    "import numpy as np\n",
    "from scipy.stats import chisquare, poisson\n",
    "\n",
    "observed = np.array([35, 99, 104, 110, 62, 25, 10, 3])\n",
    "total_observed = observed.sum()\n",
    "\n",
    "expected1 = [poisson.pmf(i, 2.435) * total_observed for i in range(len(observed) -1 )]\n",
    "expected1.append(448-sum(expected1))\n",
    "\n",
    "chi2, p_value = chisquare(f_obs=observed, f_exp=expected1)\n",
    "\n",
    "print(f\"Chi-square value: {chi2}\")\n",
    "print(f\"P-value: {p_value}\")\n",
    "\n",
    "if p_value < 0.05:\n",
    "    print(\"There is evidence to suggest that the number of scores is not a Poisson variable.\")\n",
    "else:\n",
    "    print(\"There is no evidence to suggest that the number of scores is not a Poisson variable.\")\n"
   ]
  },
  {
   "cell_type": "markdown",
   "metadata": {},
   "source": [
    "1 - calculamos inicialmente las frecuencias esperadas utilizando la función \n",
    "poisson.pmf(i, expected_parameter) * total_observed, que asume una distribución de Poisson \n",
    "con el parámetro medio especificado. Sin embargo, estas frecuencias esperadas pueden \n",
    "tener una suma distinta a la suma de las frecuencias observadas.\n",
    "\n",
    "2 - Escalamos las frecuencias esperadas para que tengan la misma suma que las frecuencias observadas.\n",
    "Ajustamos las frecuencias esperadas para que sean proporcionales a las frecuencias observadas y tengan la misma suma. Esto es fundamental para que la prueba de chi-cuadrado compare las frecuencias observadas con las frecuencias esperadas correctamente y pueda evaluar si hay alguna evidencia para rechazar la hipótesis nula de que las distribuciones son iguales\n",
    "\n",
    "\n",
    "3 - las frecuencias pueden ser distintas debido a que las observaciones reales pueden no seguir exactamente la distribución asumida o modelo teórico utilizado para calcular las frecuencias esperadas. El ajuste se realiza para tener una base de comparación adecuada entre las frecuencias observadas y las esperadas.\n",
    "\n",
    "\n"
   ]
  },
  {
   "cell_type": "markdown",
   "metadata": {},
   "source": [
    "## BONUS/OPTIONAL - Question 2\n",
    "Let's analyze a discrete distribution. To analyze the number of defective items in a factory in the city of Medellín, we took a random sample of n = 60 articles and observed the number of defectives in the following table:\n",
    "\n",
    "![](table2.png)\n",
    "\n",
    "A poissón distribution was proposed since it is defined for x = 0,1,2,3, .... using the following model:\n",
    "\n",
    "![](image1.png)\n",
    "\n",
    "For some extra insights check the following link: https://online.stat.psu.edu/stat504/node/63/ \n",
    "\n",
    "Does the distribution of defective items follow this distribution?"
   ]
  },
  {
   "cell_type": "code",
   "execution_count": 65,
   "metadata": {},
   "outputs": [
    {
     "data": {
      "text/plain": [
       "0.09973065660227236"
      ]
     },
     "execution_count": 65,
     "metadata": {},
     "output_type": "execute_result"
    }
   ],
   "source": [
    "observed = np.array([32,15,9,4])\n",
    "mean = (15+27+16)/60\n",
    "expected = [poisson.pmf(i, mean) * 60 for i in range(len(observed)-1)]\n",
    "expected.append(60-sum(expected))\n",
    "chi2, p_value = chisquare(f_obs=observed, f_exp=expected)\n",
    "p_value\n",
    "\n",
    "# A low p value tells us that the probabililt of getting more xtream numbers than\n",
    "# our observed data is low, therefore our data is aready extreame (it doesen't follow a Poisson distrubiton)"
   ]
  },
  {
   "cell_type": "markdown",
   "metadata": {},
   "source": [
    "## Question 3\n",
    "A quality control engineer takes a sample of 10 tires that come out of an assembly line, and would like to verify on the basis of the data that follows, if the number of tires with defects observed over 200 days, if it is true that 5% of all tires have defects (that is, if the sample comes from a binomial population with n = 10 and p = 0.05). \n",
    "\n",
    "![](table3.png)\n"
   ]
  },
  {
   "cell_type": "code",
   "execution_count": 66,
   "metadata": {},
   "outputs": [
    {
     "name": "stdout",
     "output_type": "stream",
     "text": [
      "Chi-square value: 8.306179519542793\n",
      "P-value: 0.015715783395950988\n",
      "There is evidence to suggest that the number of defective tires is not equal to 5%.\n"
     ]
    }
   ],
   "source": [
    "import numpy as np\n",
    "from scipy.stats import chisquare, binom\n",
    "\n",
    "observed = np.array([138, 53, 9])\n",
    "n = 10\n",
    "p = 0.05\n",
    "total_observed = np.sum(observed)\n",
    "mean = n * p\n",
    "\n",
    "expected = [binom.pmf(i, n, p) * total_observed for i in range(len(observed) - 1)]\n",
    "expected.append(total_observed - np.sum(expected))\n",
    "  \n",
    "chi2, p_value = chisquare(f_obs=observed, f_exp=expected)\n",
    "\n",
    "print(f\"Chi-square value: {chi2}\")\n",
    "print(f\"P-value: {p_value}\")\n",
    "\n",
    "if p_value < 0.05:\n",
    "    print(\"There is evidence to suggest that the number of defective tires is not equal to 5%.\")\n",
    "else:\n",
    "    print(\"There is no evidence to suggest that the number of defective tires is not equal to 5%.\")"
   ]
  },
  {
   "cell_type": "markdown",
   "metadata": {},
   "source": [
    "## Question 4\n",
    "A researcher gathers information about the patterns of Physical Activity of children in the fifth grade of primary school of a public school. He defines three categories of physical activity (Low, Medium, High). He also inquires about the regular consumption of sugary drinks at school, and defines two categories (Yes = consumed, No = not consumed). We would like to evaluate if there is an association between patterns of physical activity and the consumption of sugary drinks for the children of this school, at a level of 5% significance. The results are in the following table: \n",
    "\n",
    "![](table4.png)"
   ]
  },
  {
   "cell_type": "code",
   "execution_count": 67,
   "metadata": {},
   "outputs": [],
   "source": [
    "#your answer here"
   ]
  },
  {
   "cell_type": "code",
   "execution_count": 68,
   "metadata": {},
   "outputs": [],
   "source": [
    "sug_drinks = ['yes', 'no', 'total']\n",
    "phys_act = ['low', 'medium', 'high', 'total']\n",
    "data = [[32, 12, 44],\n",
    "        [14, 22, 36],\n",
    "        [6,9,15],\n",
    "        [52, 43, 95]\n",
    "]\n",
    "data = pd.DataFrame(data, columns = sug_drinks, index = phys_act)\n",
    "values = pd.DataFrame(data, columns = sug_drinks, index = phys_act)\n",
    "data.drop('total', axis=1, inplace=True)\n",
    "data.drop('total', axis=0, inplace=True)"
   ]
  },
  {
   "cell_type": "code",
   "execution_count": 69,
   "metadata": {},
   "outputs": [
    {
     "data": {
      "text/html": [
       "<div>\n",
       "<style scoped>\n",
       "    .dataframe tbody tr th:only-of-type {\n",
       "        vertical-align: middle;\n",
       "    }\n",
       "\n",
       "    .dataframe tbody tr th {\n",
       "        vertical-align: top;\n",
       "    }\n",
       "\n",
       "    .dataframe thead th {\n",
       "        text-align: right;\n",
       "    }\n",
       "</style>\n",
       "<table border=\"1\" class=\"dataframe\">\n",
       "  <thead>\n",
       "    <tr style=\"text-align: right;\">\n",
       "      <th></th>\n",
       "      <th>yes</th>\n",
       "      <th>no</th>\n",
       "      <th>total</th>\n",
       "    </tr>\n",
       "  </thead>\n",
       "  <tbody>\n",
       "    <tr>\n",
       "      <th>low</th>\n",
       "      <td>0.253518</td>\n",
       "      <td>0.209640</td>\n",
       "      <td>0.463158</td>\n",
       "    </tr>\n",
       "    <tr>\n",
       "      <th>medium</th>\n",
       "      <td>0.207424</td>\n",
       "      <td>0.171524</td>\n",
       "      <td>0.378947</td>\n",
       "    </tr>\n",
       "    <tr>\n",
       "      <th>high</th>\n",
       "      <td>0.086427</td>\n",
       "      <td>0.071468</td>\n",
       "      <td>0.157895</td>\n",
       "    </tr>\n",
       "    <tr>\n",
       "      <th>total</th>\n",
       "      <td>0.547368</td>\n",
       "      <td>0.452632</td>\n",
       "      <td>1.000000</td>\n",
       "    </tr>\n",
       "  </tbody>\n",
       "</table>\n",
       "</div>"
      ],
      "text/plain": [
       "             yes        no     total\n",
       "low     0.253518  0.209640  0.463158\n",
       "medium  0.207424  0.171524  0.378947\n",
       "high    0.086427  0.071468  0.157895\n",
       "total   0.547368  0.452632  1.000000"
      ]
     },
     "execution_count": 69,
     "metadata": {},
     "output_type": "execute_result"
    }
   ],
   "source": [
    "values['total'] = [44/95, 36/95, 15/95,1]\n",
    "values.loc['total'] = [52/95, 43/95, 1]\n",
    "values['yes'] = [(values['total'][0]* values.loc['total'][0]), \n",
    "                 (values['total'][1]* values.loc['total'][0]),\n",
    "                 (values['total'][2]* values.loc['total'][0]),\n",
    "                 values.loc['total'][0]\n",
    "                 ]\n",
    "\n",
    "values['no'] = [(values['total'][0]* values.loc['total'][1]), \n",
    "                 (values['total'][1]* values.loc['total'][1]),\n",
    "                 (values['total'][2]* values.loc['total'][1]),\n",
    "                 values.loc['total'][1]\n",
    "\n",
    "                 ]\n",
    "\n",
    "values"
   ]
  },
  {
   "cell_type": "code",
   "execution_count": 70,
   "metadata": {},
   "outputs": [
    {
     "data": {
      "text/html": [
       "<div>\n",
       "<style scoped>\n",
       "    .dataframe tbody tr th:only-of-type {\n",
       "        vertical-align: middle;\n",
       "    }\n",
       "\n",
       "    .dataframe tbody tr th {\n",
       "        vertical-align: top;\n",
       "    }\n",
       "\n",
       "    .dataframe thead th {\n",
       "        text-align: right;\n",
       "    }\n",
       "</style>\n",
       "<table border=\"1\" class=\"dataframe\">\n",
       "  <thead>\n",
       "    <tr style=\"text-align: right;\">\n",
       "      <th></th>\n",
       "      <th>yes</th>\n",
       "      <th>no</th>\n",
       "    </tr>\n",
       "  </thead>\n",
       "  <tbody>\n",
       "    <tr>\n",
       "      <th>low</th>\n",
       "      <td>24.084211</td>\n",
       "      <td>19.915789</td>\n",
       "    </tr>\n",
       "    <tr>\n",
       "      <th>medium</th>\n",
       "      <td>19.705263</td>\n",
       "      <td>16.294737</td>\n",
       "    </tr>\n",
       "    <tr>\n",
       "      <th>high</th>\n",
       "      <td>8.210526</td>\n",
       "      <td>6.789474</td>\n",
       "    </tr>\n",
       "  </tbody>\n",
       "</table>\n",
       "</div>"
      ],
      "text/plain": [
       "              yes         no\n",
       "low     24.084211  19.915789\n",
       "medium  19.705263  16.294737\n",
       "high     8.210526   6.789474"
      ]
     },
     "execution_count": 70,
     "metadata": {},
     "output_type": "execute_result"
    }
   ],
   "source": [
    "expected = values * 95\n",
    "expected.drop('total', axis=1, inplace=True)\n",
    "expected.drop('total', axis=0, inplace=True)\n",
    "expected\n"
   ]
  },
  {
   "cell_type": "markdown",
   "metadata": {},
   "source": [
    "UNA MANERA MOLT MES FACIL DE FER EL CALCUL:"
   ]
  },
  {
   "cell_type": "code",
   "execution_count": 78,
   "metadata": {},
   "outputs": [
    {
     "data": {
      "text/plain": [
       "Chi2ContingencyResult(statistic=10.712198008709638, pvalue=0.004719280137040844, dof=2, expected_freq=array([[24.08421053, 19.91578947],\n",
       "       [19.70526316, 16.29473684],\n",
       "       [ 8.21052632,  6.78947368]]))"
      ]
     },
     "execution_count": 78,
     "metadata": {},
     "output_type": "execute_result"
    }
   ],
   "source": [
    "import scipy.stats as stats\n",
    "stats.chi2_contingency(data)\n",
    "\n",
    "# Veient que el p value es molt baix no son independents"
   ]
  }
 ],
 "metadata": {
  "kernelspec": {
   "display_name": "Python 3",
   "language": "python",
   "name": "python3"
  },
  "language_info": {
   "codemirror_mode": {
    "name": "ipython",
    "version": 3
   },
   "file_extension": ".py",
   "mimetype": "text/x-python",
   "name": "python",
   "nbconvert_exporter": "python",
   "pygments_lexer": "ipython3",
   "version": "3.10.9"
  }
 },
 "nbformat": 4,
 "nbformat_minor": 2
}
